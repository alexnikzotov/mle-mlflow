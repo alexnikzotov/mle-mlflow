{
 "cells": [
  {
   "cell_type": "markdown",
   "id": "3b487c8b",
   "metadata": {},
   "source": [
    "<h1><center>ЛОГИРОВАНИЕ ЛОКАЛЬНОГО ТЕСТОВОГО ФАЙЛА</h1>\n",
    "\n",
    "Полностью локальный сценарий<br>\n",
    "Сначала мы покажем, как поднимать MLflow локально, чтобы вы могли плавно влиться в работу с сервисом. Уточним, что понятие «локальность» здесь и далее относится именно к MLflow, то есть вы будете разворачивать его на виртуальной машине по различным сценариям (собственно, локально, с базой данных, с объектным хранилищем и так далее).<br>\n",
    "Теперь расскажем о необходимых шагах.<br>\n",
    "1. Перейдите в вашу среду разработки на удалённом сервере. Это может быть Jupyter Notebook или его приложение в Visual Studio Code, о котором мы подробно рассказывали в уроке «Подключение к виртуальной машине». Мы рекомендуем использовать среду Jupyter, так как в ней легче работать с экспериментами.\n",
    "2. Напишите shell-скрипт с названием run_mlflow_server_locally.sh для запуска Tracking Server, который будет хранить эксперименты и артефакты в папке mlflow_experiments_store.\n",
    "    - Дайте старт Tracking Server, запустив ваш скрипт через консоль следующим образом: sh run_mlflow_server_locally.sh.\n",
    "    - После успешного запуска через консоль вы получите примерно такое сообщение:\n",
    "    - А также увидите новую папку mlflow_experiments_store в директории, из которой вы запустили shell-скрипт.\n",
    "3. Не закрывая консоль, чтобы не выключить MLflow, перейдите к тестированию сервиса:\n",
    "    - Создайте файл для тестового логирования. Назовите его test_artifact.txt и запишите в него test_artifact;\n",
    "    - Напишите код в Jupyter Notebook, который залогирует тестовый файл."
   ]
  },
  {
   "cell_type": "code",
   "execution_count": 1,
   "id": "70fd6816",
   "metadata": {},
   "outputs": [
    {
     "name": "stdout",
     "output_type": "stream",
     "text": [
      "Run id запуска: b22f6fe5e95141bc9698c8794f7277bb\n"
     ]
    }
   ],
   "source": [
    "# делаем import необходимых библиотек\n",
    "import os\n",
    "\n",
    "import mlflow\n",
    "\n",
    "# устанавливаем локальное хранилище для наших экспериментов\n",
    "# хранилище должно быть такое же, как и при запуске сервиса\n",
    "mlflow.set_tracking_uri('file:./mlflow_experiments_store')\n",
    "\n",
    "# получаем id эксеримента, который создаётся по умолчанию\n",
    "# эксперимент по умолчанию называется Default\n",
    "experiment_id = mlflow.get_experiment_by_name(\"Default\").experiment_id\n",
    "\n",
    "# залогируем тестовую метрику и артефакт\n",
    "with mlflow.start_run(run_name='Default', experiment_id=experiment_id) as run:\n",
    "    run_id = run.info.run_id\n",
    "    mlflow.log_metric(\"test_metric\", 0)\n",
    "    mlflow.log_artifact(\"test_artifact.txt\", \"test_artifact\")\n",
    "\n",
    "print(f\"Run id запуска: {run_id}\")"
   ]
  },
  {
   "cell_type": "markdown",
   "id": "07e70e85",
   "metadata": {},
   "source": [
    "Проверим, что в нашем хранилище артефактов залогировалась тестовая метрика и сам артефакт:"
   ]
  },
  {
   "cell_type": "code",
   "execution_count": 2,
   "id": "abd05b12",
   "metadata": {},
   "outputs": [
    {
     "name": "stdout",
     "output_type": "stream",
     "text": [
      "test_metric\n"
     ]
    }
   ],
   "source": [
    "!ls mlflow_experiments_store/0/{run_id}/metrics"
   ]
  },
  {
   "cell_type": "markdown",
   "id": "da1bdedd",
   "metadata": {},
   "source": [
    "И вторую:"
   ]
  },
  {
   "cell_type": "code",
   "execution_count": 3,
   "id": "fbf81cb7",
   "metadata": {},
   "outputs": [
    {
     "name": "stdout",
     "output_type": "stream",
     "text": [
      "test_artifact"
     ]
    }
   ],
   "source": [
    "!cat mlflow_experiments_store/0/{run_id}/artifacts/test_artifact/test_artifact.txt"
   ]
  },
  {
   "cell_type": "markdown",
   "id": "afe52ecc",
   "metadata": {},
   "source": [
    "Аналогичное упражнение вы можете проделать и для локального запуска с базой данных SQLite. Пусть она называется mydb.sqlite, а директорию для хранения поменяйте с mlflow_experiments_store на mlflow_experiments_store_sqlite."
   ]
  },
  {
   "cell_type": "code",
   "execution_count": 4,
   "id": "b3125e40",
   "metadata": {},
   "outputs": [],
   "source": [
    "import os\n",
    "\n",
    "import mlflow\n",
    "\n",
    "mlflow.set_tracking_uri('http://0.0.0.0:5000')\n",
    "\n",
    "# получаем id эксперимента, который создаётся по умолчанию\n",
    "# эксперимент по умолчанию называется Default\n",
    "experiment_id = mlflow.get_experiment_by_name(\"Default\").experiment_id\n",
    "\n",
    "with mlflow.start_run(run_name=\"Default\", experiment_id=experiment_id) as run:\n",
    "    run_id = run.info.run_id\n",
    "    \n",
    "    mlflow.log_metric(\"test_metric_sqlite\", 0)\n",
    "    mlflow.log_artifact(\"test_artifact.txt\", \"test_artifact_sqlite\")\n",
    "\n",
    "# проверим, что наши данные сохранились в локальной папке, а также создалась база данных SQLite\n",
    "assert os.path.exists(\"mlflow_experiments_store_sqlite\")\n",
    "assert os.path.exists(\"mydb.sqlite\") "
   ]
  }
 ],
 "metadata": {
  "kernelspec": {
   "display_name": ".venv",
   "language": "python",
   "name": "python3"
  },
  "language_info": {
   "codemirror_mode": {
    "name": "ipython",
    "version": 3
   },
   "file_extension": ".py",
   "mimetype": "text/x-python",
   "name": "python",
   "nbconvert_exporter": "python",
   "pygments_lexer": "ipython3",
   "version": "3.10.12"
  }
 },
 "nbformat": 4,
 "nbformat_minor": 5
}
