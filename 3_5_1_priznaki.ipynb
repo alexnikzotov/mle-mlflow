{
 "cells": [
  {
   "cell_type": "markdown",
   "id": "2f664238",
   "metadata": {},
   "source": [
    "<h1><center>РАБОТА С ПРИЗНАКАМИ</center></h1>\n",
    "\n",
    "Для начала определите глобальные переменные, которые понадобятся при выполнении заданий. Используйте уже существующий эксперимент в MLflow. Вот пример кода, который можно взять в качестве шаблона для объявления переменных:"
   ]
  },
  {
   "cell_type": "code",
   "execution_count": null,
   "id": "1308372b",
   "metadata": {},
   "outputs": [],
   "source": [
    "import pandas as pd\n",
    "import numpy as np\n",
    "import os\n",
    "import psycopg\n",
    "import matplotlib.pyplot as plt\n",
    "import seaborn as sns\n",
    "import mlflow\n",
    "from sklearn.compose import ColumnTransformer\n",
    "from sklearn.pipeline import Pipeline\n",
    "from sklearn.preprocessing import ( OneHotEncoder, SplineTransformer, QuantileTransformer, \n",
    "                                    RobustScaler, PolynomialFeatures, KBinsDiscretizer )\n",
    "from sklearn.model_selection import train_test_split\n",
    "from sklearn.ensemble import RandomForestClassifier\n",
    "from sklearn.metrics import accuracy_score\n",
    "from autofeat import AutoFeatRegressor, AutoFeatClassifier\n",
    "\n",
    "TABLE_NAME = \"clean_users_churn\" # таблица с данными\n",
    "\n",
    "TRACKING_SERVER_HOST = \"127.0.0.1\"\n",
    "TRACKING_SERVER_PORT = 5000\n",
    "\n",
    "EXPERIMENT_NAME = \"priznaki\" # название эксперимента\n",
    "RUN_NAME = \"preprocessing\" \n",
    "REGISTRY_MODEL_NAME = \"priznak_afc\" # название зарегистрированной модели \n",
    "\n",
    "# experiment_id = mlflow.create_experiment(EXPERIMENT_NAME) "
   ]
  },
  {
   "cell_type": "markdown",
   "id": "af68f273",
   "metadata": {},
   "source": [
    "После этого загрузите ваш набор данных из базы данных Postgres — так, как вы это делали в предыдущих уроках.\n",
    "<br>Получившийся датафрейм сохраните в переменную df."
   ]
  },
  {
   "cell_type": "code",
   "execution_count": null,
   "id": "110e88b1",
   "metadata": {},
   "outputs": [],
   "source": [
    "connection = {\"sslmode\": \"require\", \"target_session_attrs\": \"read-write\"}\n",
    "postgres_credentials = {\"host\": 'rc1b-uh7kdmcx67eomesf.mdb.yandexcloud.net', #os.getenv(\"DB_DESTINATION_HOST\"),\n",
    "                        \"port\": '6432', #os.getenv(\"DB_DESTINATION_PORT\"),\n",
    "                        \"dbname\": 'playground_mle_20250529_05fed48463', #os.getenv(\"DB_DESTINATION_NAME\"),\n",
    "                        \"user\": 'mle_20250529_05fed48463', #os.getenv(\"DB_DESTINATION_USER\"),\n",
    "                        \"password\": '0c567edd8ad8472e87d5c85cc4d664e4' } #os.getenv(\"DB_DESTINATION_PASSWORD\")}\n",
    "connection.update(postgres_credentials)\n",
    "\n",
    "with psycopg.connect(**connection) as conn:\n",
    "    with conn.cursor() as cur:\n",
    "        cur.execute(f\"SELECT * FROM {TABLE_NAME}\")\n",
    "        data = cur.fetchall()\n",
    "        columns = [col[0] for col in cur.description]\n",
    "\n",
    "df = pd.DataFrame(data, columns=columns)\n",
    "df['target'] = (df['end_date'].notna()).astype(int)\n",
    "df.head(2) "
   ]
  },
  {
   "cell_type": "markdown",
   "id": "c9a63809",
   "metadata": {},
   "source": [
    "Выберите команду, которая выделит нечисловые колонки вашего датасета:"
   ]
  },
  {
   "cell_type": "code",
   "execution_count": null,
   "id": "0d327af0",
   "metadata": {},
   "outputs": [],
   "source": [
    "obj_df = df.select_dtypes(include=\"object\")"
   ]
  },
  {
   "cell_type": "markdown",
   "id": "0e9cde71",
   "metadata": {},
   "source": [
    "**Задание 1**\n",
    "\n",
    "После того как вы выделили категориальные колонки, закодируйте их для подачи в вашу модель:"
   ]
  },
  {
   "cell_type": "code",
   "execution_count": null,
   "id": "fa81e330",
   "metadata": {},
   "outputs": [],
   "source": [
    "# определение категориальных колонок, которые будут преобразованы\n",
    "cat_columns = [\"type\", \"payment_method\", \"internet_service\", \"gender\"]\n",
    "\n",
    "# создание объекта OneHotEncoder для преобразования категориальных переменных\n",
    "# auto - автоматическое определение категорий\n",
    "# ignore - игнорировать ошибки, если встречается неизвестная категория\n",
    "# max_categories - максимальное количество уникальных категорий\n",
    "# sparse_output - вывод в виде разреженной матрицы, если False, то в виде обычного массива\n",
    "# drop=\"first\" - удаляет первую категорию, чтобы избежать ловушки мультиколлинеарности\n",
    "encoder_oh = OneHotEncoder(categories='auto', handle_unknown='ignore', max_categories=10, sparse_output=False, drop='first') # ваш код здесь #\n",
    "\n",
    "# применение OneHotEncoder к данным. Преобразование категориальных данных в массив\n",
    "encoded_features = encoder_oh.fit_transform(df[cat_columns].to_numpy()) # ваш код здесь #\n",
    "\n",
    "# преобразование полученных признаков в DataFrame и установка названий колонок\n",
    "# get_feature_names_out() - получение имён признаков после преобразования\n",
    "encoded_df = pd.DataFrame(encoded_features, columns=encoder_oh.get_feature_names_out(cat_columns)) # ваш код здесь #\n",
    "\n",
    "# конкатенация исходного DataFrame с новым DataFrame, содержащим закодированные категориальные признаки\n",
    "# axis=1 означает конкатенацию по колонкам\n",
    "obj_df = pd.concat([obj_df, encoded_df], axis=1)\n",
    "\n",
    "obj_df.head(2)"
   ]
  },
  {
   "cell_type": "markdown",
   "id": "379cebf5",
   "metadata": {},
   "source": [
    "Сейчас поработайте с числовыми признаками: monthly_charges и total_charges. Из них можно сгенерировать довольно много признаков для вашей модели. \n",
    "\n",
    "**Задание 2**\n",
    "\n",
    "Напишите код преобразования числовых признаков в списке num_columns, используя следующие энкодеры:\n",
    "- SplineTransformer,\n",
    "- QuantileTransformer,\n",
    "- RobustScaler,\n",
    "- PolynomialFeatures,\n",
    "- KBinsDiscretizer."
   ]
  },
  {
   "cell_type": "code",
   "execution_count": null,
   "id": "479ab781",
   "metadata": {},
   "outputs": [],
   "source": [
    "num_columns = [\"monthly_charges\", \"total_charges\"]\n",
    "\n",
    "n_knots = 3\n",
    "degree_spline = 4\n",
    "n_quantiles=100\n",
    "degree = 3\n",
    "n_bins = 5\n",
    "encode = 'ordinal'\n",
    "strategy = 'uniform'\n",
    "subsample = None\n",
    "\n",
    "# num_df = df.select_dtypes(include=['number'])\n",
    "\n",
    "num_df = df[num_columns].copy()\n",
    "\n",
    "# SplineTransformer\n",
    "encoder_spl = SplineTransformer(n_knots=n_knots, degree=degree_spline) # ваш код здесь #\n",
    "encoded_features = encoder_spl.fit_transform(df[num_columns].to_numpy()) # ваш код здесь #\n",
    "encoded_df = pd.DataFrame( encoded_features, columns=encoder_spl.get_feature_names_out(num_columns) )\n",
    "num_df = pd.concat([num_df, encoded_df], axis=1)\n",
    "\n",
    "# QuantileTransformer\n",
    "encoder_q = QuantileTransformer(n_quantiles=n_quantiles) #, output_distribution='normal') # ваш код здесь #\n",
    "encoded_features = encoder_q.fit_transform(df[num_columns].to_numpy()) # ваш код здесь #\n",
    "encoded_df = pd.DataFrame(encoded_features, columns=encoder_q.get_feature_names_out(num_columns)) # ваш код здесь #\n",
    "encoded_df.columns = [col + f\"_q_{n_quantiles}\" for col in num_columns]\n",
    "num_df = pd.concat([num_df, encoded_df], axis=1)\n",
    "\n",
    "# RobustScaler\n",
    "encoder_rb = RobustScaler() # ваш код здесь #\n",
    "encoded_features = encoder_rb.fit_transform(df[num_columns].to_numpy()) # ваш код здесь #\n",
    "encoded_df = pd.DataFrame(encoded_features, columns=encoder_rb.get_feature_names_out(num_columns)) # ваш код здесь #\n",
    "encoded_df.columns = [col + f\"_robust\" for col in num_columns]\n",
    "num_df = pd.concat([num_df, encoded_df], axis=1)\n",
    "\n",
    "# PolynomialFeatures\n",
    "encoder_pol = PolynomialFeatures(degree=degree) # ваш код здесь #\n",
    "encoded_features = encoder_pol.fit_transform(df[num_columns].to_numpy()) # ваш код здесь #\n",
    "encoded_df = pd.DataFrame(encoded_features, columns=encoder_pol.get_feature_names_out(num_columns)) # ваш код здесь #\n",
    "# get all columns after the intercept and original features\n",
    "encoded_df.columns = encoder_pol.get_feature_names_out(num_columns)\n",
    "encoded_df = encoded_df.iloc[:, 1 + len(num_columns):]\n",
    "encoded_df.columns = [f\"{col}_poly\" for col in encoded_df.columns]\n",
    "\n",
    "# KBinsDiscretizer\n",
    "encoder_kbd = KBinsDiscretizer(n_bins=n_bins, encode=encode, strategy=strategy, subsample=subsample) # ваш код здесь #\n",
    "encoded_features = encoder_kbd.fit_transform(df[num_columns].to_numpy()) # ваш код здесь #\n",
    "encoded_df = pd.DataFrame(encoded_features, columns=encoder_kbd.get_feature_names_out(num_columns)) # ваш код здесь #\n",
    "encoded_df.columns = [col + f\"_bin\" for col in num_columns]\n",
    "num_df = pd.concat([num_df, encoded_df], axis=1) # ваш код здесь #\n",
    "\n",
    "num_df.head(2)"
   ]
  },
  {
   "cell_type": "markdown",
   "id": "075a3c2f",
   "metadata": {},
   "source": [
    "Применять по отдельности каждое преобразование не всегда удобно, особенно когда их очень много. Поэтому их объединяют в пайплайн или колоночные преобразования, которые можно визуализировать, запустить одной командой и сохранить. Последуйте этому примеру и объедините все энкодеры в одно преобразование. \n",
    "\n",
    "**Задание 3**\n",
    "\n",
    "Напишите код, который объединит преобразования над числовыми колонками в ColumnTransformer, а над категориальными — в Pipeline, используя энкодеры из предыдущих заданий. Затем объедините два получившихся объекта класса одним колоночным преобразованием. После чего объедините ваш преобразованный набор данных с изначальным, а результат сохраните в переменную df. "
   ]
  },
  {
   "cell_type": "code",
   "execution_count": null,
   "id": "29e35940",
   "metadata": {},
   "outputs": [],
   "source": [
    "numeric_transformer = ColumnTransformer(\n",
    "    transformers=[('spl', encoder_spl, num_columns),('q', encoder_q, num_columns), ('rb', encoder_rb, num_columns), ('pol', encoder_pol, num_columns), ('kbd', encoder_kbd, num_columns)] # ваш код здесь #\n",
    ")\n",
    "\n",
    "categorical_transformer = Pipeline(\n",
    "\tsteps=[('encoder', encoder_oh)] # ваш код здесь #\n",
    ")\n",
    "\n",
    "preprocessor = ColumnTransformer(\n",
    "\ttransformers=[('num', numeric_transformer, num_columns), ('cat', categorical_transformer, cat_columns)], n_jobs=-1 # ваш код здесь #\n",
    ")\n",
    "\n",
    "encoded_features = preprocessor.fit_transform(df) # ваш код здесь #\n",
    "\n",
    "transformed_df = pd.DataFrame(encoded_features, columns=preprocessor.get_feature_names_out()) # ваш код здесь #\n",
    "\n",
    "df = pd.concat([df, transformed_df], axis=1) # ваш код здесь #\n",
    "df.head(2)"
   ]
  },
  {
   "cell_type": "markdown",
   "id": "f00ada7e",
   "metadata": {},
   "source": [
    "**Задание 4**\n",
    "\n",
    "Чтобы визуализировать получившееся общее преобразование, просто посмотрите на значение переменной preprocessor."
   ]
  },
  {
   "cell_type": "code",
   "execution_count": null,
   "id": "d0726981",
   "metadata": {},
   "outputs": [],
   "source": [
    "preprocessor"
   ]
  },
  {
   "cell_type": "markdown",
   "id": "af7390be",
   "metadata": {},
   "source": [
    "Объект preprocessor класса ColumnTransformer, объявленный в предыдущем задании, можно сохранить в MLflow, в директорию preprocessor — точно так же, как и модель. Для этого выполните следующий код в Jupyter Notebook:"
   ]
  },
  {
   "cell_type": "code",
   "execution_count": null,
   "id": "9db6e140",
   "metadata": {},
   "outputs": [],
   "source": [
    "os.environ[\"MLFLOW_S3_ENDPOINT_URL\"] = 'https://storage.yandexcloud.net'\n",
    "os.environ[\"AWS_ACCESS_KEY_ID\"] = \"YCAJE3Nlz8iDILW5VTYM1ihQB\"\n",
    "os.environ[\"AWS_SECRET_ACCESS_KEY\"] = \"YCPjvS7uwhvJpUj3bKm8X-IX4QAwBIVsvX61IL44\"\n",
    "os.environ['MLFLOW_ARTIFACT_URI'] = 'http://s3-student-mle-20250529-05fed48463'\n",
    "\n",
    "TRACKING_SERVER_HOST = '127.0.0.1'\n",
    "TRACKING_SERVER_PORT = 5000\n",
    "\n",
    "mlflow.set_tracking_uri(f\"http://{TRACKING_SERVER_HOST}:{TRACKING_SERVER_PORT}\")\n",
    "mlflow.set_registry_uri(f\"http://{TRACKING_SERVER_HOST}:{TRACKING_SERVER_PORT}\")\n",
    "\n",
    "experiment_id = mlflow.get_experiment_by_name(EXPERIMENT_NAME).experiment_id\n",
    "\n",
    "with mlflow.start_run(run_name=RUN_NAME, experiment_id=experiment_id) as run:\n",
    "    run_id = run.info.run_id\n",
    "\n",
    "    mlflow.sklearn.log_model(preprocessor, \"column_transformer\") "
   ]
  },
  {
   "cell_type": "markdown",
   "id": "eab6801b",
   "metadata": {},
   "source": [
    "**Задание 5**\n",
    "\n",
    "Теперь обучите новую модель с новыми признаками, полученными при помощи ваших энкодеров. Посмотрите, как изменилось качество модели на валидационной или тестовой выборке. Зарегистрируйте полученную версию модели."
   ]
  },
  {
   "cell_type": "code",
   "execution_count": null,
   "id": "42500e83",
   "metadata": {},
   "outputs": [],
   "source": [
    "df_q = df[['target', 'num__spl__monthly_charges_sp_0',\n",
    "       'num__spl__monthly_charges_sp_1', 'num__spl__monthly_charges_sp_2',\n",
    "       'num__spl__monthly_charges_sp_3', 'num__spl__monthly_charges_sp_4',\n",
    "       'num__spl__monthly_charges_sp_5', 'num__spl__total_charges_sp_0',\n",
    "       'num__spl__total_charges_sp_1', 'num__spl__total_charges_sp_2',\n",
    "       'num__spl__total_charges_sp_3', 'num__spl__total_charges_sp_4',\n",
    "       'num__spl__total_charges_sp_5', 'num__q__monthly_charges',\n",
    "       'num__q__total_charges', 'num__rb__monthly_charges',\n",
    "       'num__rb__total_charges', 'num__pol__1', 'num__pol__monthly_charges',\n",
    "       'num__pol__total_charges', 'num__pol__monthly_charges^2',\n",
    "       'num__pol__monthly_charges total_charges', 'num__pol__total_charges^2',\n",
    "       'num__pol__monthly_charges^3',\n",
    "       'num__pol__monthly_charges^2 total_charges',\n",
    "       'num__pol__monthly_charges total_charges^2',\n",
    "       'num__pol__total_charges^3', 'num__kbd__monthly_charges',\n",
    "       'num__kbd__total_charges', 'cat__type_One year', 'cat__type_Two year',\n",
    "       'cat__payment_method_Credit card (automatic)',\n",
    "       'cat__payment_method_Electronic check',\n",
    "       'cat__payment_method_Mailed check', 'cat__internet_service_Fiber optic',\n",
    "       'cat__gender_Male']]\n",
    "\n",
    "# Разделение данных на обучающую и валидационную выборки\n",
    "X_train, X_val, y_train, y_val = train_test_split(df_q.drop('target', axis=1), df_q['target'], test_size=0.2, random_state=42)\n",
    "\n",
    "# Инициализация модели\n",
    "model = RandomForestClassifier(n_estimators=100, random_state=42)\n",
    "\n",
    "# Обучение модели\n",
    "model.fit(X_train, y_train)\n",
    "\n",
    "# Прогнозирование на валидационной выборке\n",
    "y_pred = model.predict(X_val)\n",
    "\n",
    "# Оценка качества модели\n",
    "accuracy = accuracy_score(y_val, y_pred)\n",
    "print(f\"Accuracy on validation set: {accuracy}\")\n",
    "\n",
    "from mlflow.tracking import MlflowClient\n",
    "# Регистрация модели с помощью MLFlow\n",
    "with mlflow.start_run(run_name=RUN_NAME, experiment_id=experiment_id) as run:\n",
    "    mlflow.sklearn.log_model(model, \"priznak\")\n",
    "    model_registred_name = \"priznak\"\n",
    "    mlflow.register_model(\"runs:/{}/model\".format(run.info.run_id), model_registred_name)\n",
    "    # model_version_id = mlflow.get_latest_versions(model_registred_name)[0].version\n",
    "    run_id = run.info.run_id"
   ]
  },
  {
   "cell_type": "markdown",
   "id": "6f4f011c",
   "metadata": {},
   "source": [
    "___\n",
    "\n",
    "**8/11 Автогенерация признаков**\n",
    "\n",
    "Вы можете взять вариант разделения набора данных для обучения и валидации, который представлен ниже, или использовать свой вариант."
   ]
  },
  {
   "cell_type": "code",
   "execution_count": null,
   "id": "16efca7d",
   "metadata": {},
   "outputs": [],
   "source": [
    "features = ['num__spl__monthly_charges_sp_0',\n",
    "       'num__spl__monthly_charges_sp_1', 'num__spl__monthly_charges_sp_2',\n",
    "       'num__spl__monthly_charges_sp_3', 'num__spl__monthly_charges_sp_4',\n",
    "       'num__spl__monthly_charges_sp_5', 'num__spl__total_charges_sp_0',\n",
    "       'num__spl__total_charges_sp_1', 'num__spl__total_charges_sp_2',\n",
    "       'num__spl__total_charges_sp_3', 'num__spl__total_charges_sp_4',\n",
    "       'num__spl__total_charges_sp_5', 'num__q__monthly_charges',\n",
    "       'num__q__total_charges', 'num__rb__monthly_charges',\n",
    "       'num__rb__total_charges', 'num__pol__1', 'num__pol__monthly_charges',\n",
    "       'num__pol__total_charges', 'num__pol__monthly_charges^2',\n",
    "       'num__pol__monthly_charges total_charges', 'num__pol__total_charges^2',\n",
    "       'num__pol__monthly_charges^3',\n",
    "       'num__pol__monthly_charges^2 total_charges',\n",
    "       'num__pol__monthly_charges total_charges^2',\n",
    "       'num__pol__total_charges^3', 'num__kbd__monthly_charges',\n",
    "       'num__kbd__total_charges', 'cat__type_One year', 'cat__type_Two year',\n",
    "       'cat__payment_method_Credit card (automatic)',\n",
    "       'cat__payment_method_Electronic check',\n",
    "       'cat__payment_method_Mailed check', 'cat__internet_service_Fiber optic',\n",
    "       'cat__gender_Male'] # список признаков вашей модели\n",
    "target = ['target'] # колонка с таргетом вашей модели\n",
    "\n",
    "split_column = \"begin_date\"\n",
    "test_size = 0.2\n",
    "\n",
    "# df = df.sort_values(by=[split_column])\n",
    "\n",
    "X_train, X_test, y_train, y_test = train_test_split( df[features], df[target], test_size=test_size, shuffle=False )"
   ]
  },
  {
   "cell_type": "markdown",
   "id": "06461c2a",
   "metadata": {},
   "source": [
    "Сгенерируйте новые признаки с помощью библиотеки autofeat. \n",
    "<br>Используйте следующие трансформации:\n",
    "<br>a. обратное деление 1/,\n",
    "<br>b. подсчёт логарифма,\n",
    "<br>c. взятие модуля,\n",
    "<br>d. взятие корня.\n",
    "<br><br>Для количества шагов, которые необходимо выполнить при создании признаков feateng_steps, установите значение 1.\n",
    "<br>Для n_jobs установите значение -1 — это означает, что будут использоваться все ядра виртуальной машины.\n",
    "Набор данных для обучения представлен переменной X_train, запустите подготовленные для него преобразования. Отдельно преобразуйте валидационный или тестовый набор данных X_test. \n",
    "Вы можете взять вариант разделения набора данных для обучения и валидации, который представлен ниже, или использовать свой вариант."
   ]
  },
  {
   "cell_type": "code",
   "execution_count": null,
   "id": "9d258dc6",
   "metadata": {},
   "outputs": [],
   "source": [
    "df[ list(df.columns[ df.columns.str.contains('cat_') ]) ] = df[ list(df.columns[ df.columns.str.contains('cat_') ]) ].fillna(0)\n",
    "df[ list(df.columns[ df.columns.str.contains('num_') ]) ] = df[ list(df.columns[ df.columns.str.contains('num_') ]) ].fillna(0)"
   ]
  },
  {
   "cell_type": "code",
   "execution_count": null,
   "id": "aba2b1ad",
   "metadata": {},
   "outputs": [],
   "source": [
    "# df = df[  (df.columns[ df.columns.str.contains('cat_|num_') ]) ]"
   ]
  },
  {
   "cell_type": "code",
   "execution_count": null,
   "id": "597c79e7",
   "metadata": {},
   "outputs": [],
   "source": [
    "cat_columns = list(df.columns[ df.columns.str.contains('cat_') ])\n",
    "num_columns = list(df.columns[ df.columns.str.contains('num_') ])\n",
    "\n",
    "features = cat_columns + num_columns\n",
    "transformations = ('1/', 'log', 'abs', 'sqrt')\n",
    "\n",
    "afc = AutoFeatClassifier(categorical_cols=cat_columns, transformations=transformations, feateng_steps=1, n_jobs=-1)\n",
    "\n",
    "try:\n",
    "    X_train_features = afc.fit_transform(X_train, y_train)\n",
    "    X_test_features = afc.transform(X_test)\n",
    "except:\n",
    "    pass"
   ]
  },
  {
   "cell_type": "markdown",
   "id": "1666e046",
   "metadata": {},
   "source": [
    "**Задание 2**\n",
    "\n",
    "Чтобы добиться воспроизводимости, объект afc можно залогировать в MLflow. Делается это так:"
   ]
  },
  {
   "cell_type": "code",
   "execution_count": null,
   "id": "791556b6",
   "metadata": {},
   "outputs": [],
   "source": [
    "artifact_path = \"afc\"\n",
    "experiment_id = mlflow.get_experiment_by_name(EXPERIMENT_NAME).experiment_id\n",
    "\n",
    "with mlflow.start_run(run_name=RUN_NAME, experiment_id=experiment_id) as run:\n",
    "    run_id = run.info.run_id\n",
    "    \n",
    "    afc_info = mlflow.sklearn.log_model(afc, artifact_path=artifact_path) "
   ]
  },
  {
   "cell_type": "markdown",
   "id": "266d4d1a",
   "metadata": {},
   "source": [
    "**Задание 3**\n",
    "\n",
    "Теперь обучите вашу модель с учётом новых признаков. В конце её нужно зарегистрировать. В переменные ниже вставьте соответствующую информацию об этом."
   ]
  },
  {
   "cell_type": "code",
   "execution_count": null,
   "id": "2cc4212b",
   "metadata": {},
   "outputs": [],
   "source": [
    "df_q = df[['target', 'num__spl__monthly_charges_sp_0',\n",
    "       'num__spl__monthly_charges_sp_1', 'num__spl__monthly_charges_sp_2',\n",
    "       'num__spl__monthly_charges_sp_3', 'num__spl__monthly_charges_sp_4',\n",
    "       'num__spl__monthly_charges_sp_5', 'num__spl__total_charges_sp_0',\n",
    "       'num__spl__total_charges_sp_1', 'num__spl__total_charges_sp_2',\n",
    "       'num__spl__total_charges_sp_3', 'num__spl__total_charges_sp_4',\n",
    "       'num__spl__total_charges_sp_5', 'num__q__monthly_charges',\n",
    "       'num__q__total_charges', 'num__rb__monthly_charges',\n",
    "       'num__rb__total_charges', 'num__pol__1', 'num__pol__monthly_charges',\n",
    "       'num__pol__total_charges', 'num__pol__monthly_charges^2',\n",
    "       'num__pol__monthly_charges total_charges', 'num__pol__total_charges^2',\n",
    "       'num__pol__monthly_charges^3',\n",
    "       'num__pol__monthly_charges^2 total_charges',\n",
    "       'num__pol__monthly_charges total_charges^2',\n",
    "       'num__pol__total_charges^3', 'num__kbd__monthly_charges',\n",
    "       'num__kbd__total_charges', 'cat__type_One year', 'cat__type_Two year',\n",
    "       'cat__payment_method_Credit card (automatic)',\n",
    "       'cat__payment_method_Electronic check',\n",
    "       'cat__payment_method_Mailed check', 'cat__internet_service_Fiber optic',\n",
    "       'cat__gender_Male']]\n",
    "\n",
    "# Разделение данных на обучающую и валидационную выборки\n",
    "X_train, X_val, y_train, y_val = train_test_split(df_q.drop('target', axis=1), df_q['target'], test_size=0.2, random_state=42)\n",
    "\n",
    "# Инициализация модели\n",
    "model = RandomForestClassifier(n_estimators=100, random_state=42)\n",
    "\n",
    "# Обучение модели\n",
    "model.fit(X_train, y_train)\n",
    "\n",
    "# Прогнозирование на валидационной выборке\n",
    "y_pred = model.predict(X_val)\n",
    "\n",
    "# Оценка качества модели\n",
    "accuracy = accuracy_score(y_val, y_pred)\n",
    "print(f\"Accuracy on validation set: {accuracy}\")\n",
    "\n",
    "from mlflow.tracking import MlflowClient\n",
    "# Регистрация модели с помощью MLFlow\n",
    "with mlflow.start_run(run_name=RUN_NAME, experiment_id=experiment_id) as run:\n",
    "    mlflow.sklearn.log_model(model, \"priznak_afc\")\n",
    "    model_registred_name = \"priznak_afc\"\n",
    "    mlflow.register_model(\"runs:/{}/model\".format(run.info.run_id), model_registred_name)\n",
    "    # model_version_id = mlflow.get_latest_versions(model_registred_name)[0].version\n",
    "    run_id = run.info.run_id"
   ]
  }
 ],
 "metadata": {
  "kernelspec": {
   "display_name": ".venv",
   "language": "python",
   "name": "python3"
  },
  "language_info": {
   "codemirror_mode": {
    "name": "ipython",
    "version": 3
   },
   "file_extension": ".py",
   "mimetype": "text/x-python",
   "name": "python",
   "nbconvert_exporter": "python",
   "pygments_lexer": "ipython3",
   "version": "3.10.12"
  }
 },
 "nbformat": 4,
 "nbformat_minor": 5
}
