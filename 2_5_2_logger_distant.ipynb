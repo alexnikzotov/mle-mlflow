{
 "cells": [
  {
   "cell_type": "markdown",
   "id": "37f9d9b8",
   "metadata": {},
   "source": [
    "<h1><center>ЛОГИРОВАНИЕ ФАЙЛА В УДАЛЁННОМ ХРАНИЛИЩЕ</h1>\n",
    "\n",
    "Вам нужно поднять такой сервис, чтобы оптимизировать работу вашей команды. Обратите внимание, что для работы с базой данных Postgresql вам понадобится библиотека psycopg. Установить ее можно с помощью такой команды: pip install psycopg && pip install 'psycopg[binary]'. Мы подробнее расскажем об этой библиотеке в следующем уроке.\n",
    "<br><br>Напишите скрипт запуска:\n",
    "- Создайте новый файл **run_mlflow_server.sh** для локального запуска Tracking Server с удалённой базой данных PostgreSQL и удалённым объектным хранилищем Object Storage в Yandex Cloud."
   ]
  },
  {
   "cell_type": "code",
   "execution_count": 1,
   "id": "88324b0e",
   "metadata": {},
   "outputs": [],
   "source": [
    "# export MLFLOW_S3_ENDPOINT_URL=https://storage.yandexcloud.net\n",
    "# export AWS_ACCESS_KEY_ID=$AWS_ACCESS_KEY_ID\n",
    "# export AWS_SECRET_ACCESS_KEY=$AWS_SECRET_ACCESS_KEY\n",
    "# export AWS_BUCKET_NAME=$S3_BUCKET_NAME\n",
    "\n",
    "# mlflow server \\\n",
    "#   --backend-store-uri postgresql://$DB_DESTINATION_USER:$DB_DESTINATION_PASSWORD@$DB_DESTINATION_HOST:$DB_DESTINATION_PORT/$DB_DESTINATION_NAME\\\n",
    "#     --default-artifact-root s3://$AWS_BUCKET_NAME \\\n",
    "#     --no-serve-artifacts "
   ]
  },
  {
   "cell_type": "markdown",
   "id": "935be403",
   "metadata": {},
   "source": [
    "- Дайте старт Tracking Server, запустив ваш скрипт через консоль с помощью такой команды: sh run_mlflow_server.sh."
   ]
  },
  {
   "cell_type": "code",
   "execution_count": 2,
   "id": "25c3ff91",
   "metadata": {},
   "outputs": [],
   "source": [
    "#  sh run_mlflow_server.sh"
   ]
  },
  {
   "cell_type": "markdown",
   "id": "0f37d9c6",
   "metadata": {},
   "source": [
    "- Создайте новую тетрадку в Jupyter Notebook, в которой вы будете логировать тестовые артефакты для проверки работоспособности вашего сервиса:"
   ]
  },
  {
   "cell_type": "code",
   "execution_count": 4,
   "id": "97780ce9",
   "metadata": {},
   "outputs": [],
   "source": [
    "import os\n",
    "import mlflow\n",
    "\n",
    "# определяем основные credentials, которые нужны для подключения к MLflow\n",
    "# важно, что credentials мы передаём для себя как пользователей Tracking Service\n",
    "# у вас должен быть доступ к бакету, в который вы будете складывать артефакты\n",
    "os.environ[\"MLFLOW_S3_ENDPOINT_URL\"] = \"https://storage.yandexcloud.net\" #endpoint бакета от YandexCloud\n",
    "os.environ[\"AWS_ACCESS_KEY_ID\"] = 'YCAJE3Nlz8iDILW5VTYM1ihQB' # os.getenv(\"AWS_ACCESS_KEY_ID\") # получаем id ключа бакета, к которому подключён MLFlow, из .env\n",
    "os.environ[\"AWS_SECRET_ACCESS_KEY\"] = 'YCPjvS7uwhvJpUj3bKm8X-IX4QAwBIVsvX61IL44' # os.getenv(\"AWS_SECRET_ACCESS_KEY\") #  получаем ключ бакета, к которому подключён MLFlow, из .env\n",
    "\n",
    "# определяем глобальные переменные\n",
    "# поднимаем MLflow локально\n",
    "TRACKING_SERVER_HOST = \"127.0.0.1\"\n",
    "TRACKING_SERVER_PORT = 5000\n",
    "\n",
    "YOUR_NAME = \"unique_experiment-2\" # введите своё имя для создания уникального эксперимента\n",
    "assert YOUR_NAME, \"alexnikzotov\"\n",
    "\n",
    "# название тестового эксперимента и запуска (run) внутри него\n",
    "EXPERIMENT_NAME = f\"test_connection_experiment_{YOUR_NAME}\"\n",
    "RUN_NAME = \"test_connection_run\"\n",
    "\n",
    "# тестовые данные\n",
    "METRIC_NAME = \"test_metric\"\n",
    "METRIC_VALUE = 0\n",
    "\n",
    "# устанавливаем host, который будет отслеживать наши эксперименты\n",
    "mlflow.set_tracking_uri(f\"http://{TRACKING_SERVER_HOST}:{TRACKING_SERVER_PORT}\")\n",
    "\n",
    "# создаём тестовый эксперимент и записываем в него тестовую информацию\n",
    "experiment_id = mlflow.create_experiment(EXPERIMENT_NAME)\n",
    "with mlflow.start_run(run_name=RUN_NAME, experiment_id=experiment_id) as run:\n",
    "    run_id = run.info.run_id\n",
    "    \n",
    "    mlflow.log_metric(METRIC_NAME, METRIC_VALUE) "
   ]
  },
  {
   "cell_type": "markdown",
   "id": "e1ac9890",
   "metadata": {},
   "source": [
    "Далее запустите следующий код, который проверит, что всё сделано правильно:"
   ]
  },
  {
   "cell_type": "code",
   "execution_count": 5,
   "id": "a5ea80d0",
   "metadata": {},
   "outputs": [],
   "source": [
    "##### 4. Проверяем себя, что в MLflow:\n",
    "# - создался `experiment` с нашим именем\n",
    "# - внутри эксперимента появился запуск `run`\n",
    "# - внутри `run` записалась наша тестовая `metric`\n",
    "experiment = mlflow.get_experiment_by_name(EXPERIMENT_NAME)\n",
    "run = mlflow.get_run(run_id)\n",
    "\n",
    "assert \"active\" == experiment.lifecycle_stage\n",
    "assert mlflow.get_run(run_id)\n",
    "assert METRIC_VALUE == run.data.metrics[METRIC_NAME] "
   ]
  },
  {
   "cell_type": "code",
   "execution_count": null,
   "id": "4f2f9a2e",
   "metadata": {},
   "outputs": [
    {
     "ename": "ModuleNotFoundError",
     "evalue": "No module named 'psycopg2'",
     "output_type": "error",
     "traceback": [
      "\u001b[0;31m---------------------------------------------------------------------------\u001b[0m",
      "\u001b[0;31mModuleNotFoundError\u001b[0m                       Traceback (most recent call last)",
      "Cell \u001b[0;32mIn[7], line 20\u001b[0m\n\u001b[1;32m     17\u001b[0m TABLE_NAME \u001b[38;5;241m=\u001b[39m \u001b[38;5;124m\"\u001b[39m\u001b[38;5;124musers_churn\u001b[39m\u001b[38;5;124m\"\u001b[39m\n\u001b[1;32m     19\u001b[0m \u001b[38;5;66;03m# Устанавливаем соединение с базой данных\u001b[39;00m\n\u001b[0;32m---> 20\u001b[0m engine \u001b[38;5;241m=\u001b[39m \u001b[43mcreate_engine\u001b[49m\u001b[43m(\u001b[49m\u001b[43mconnection_string\u001b[49m\u001b[43m)\u001b[49m\n\u001b[1;32m     22\u001b[0m \u001b[38;5;66;03m# Выполняем SQL-запрос и загружаем данные в DataFrame\u001b[39;00m\n\u001b[1;32m     23\u001b[0m df \u001b[38;5;241m=\u001b[39m pd\u001b[38;5;241m.\u001b[39mread_sql_query(\u001b[38;5;124mf\u001b[39m\u001b[38;5;124m\"\u001b[39m\u001b[38;5;124mSELECT * FROM \u001b[39m\u001b[38;5;132;01m{\u001b[39;00mTABLE_NAME\u001b[38;5;132;01m}\u001b[39;00m\u001b[38;5;124m\"\u001b[39m, engine)\n",
      "File \u001b[0;32m<string>:2\u001b[0m, in \u001b[0;36mcreate_engine\u001b[0;34m(url, **kwargs)\u001b[0m\n",
      "File \u001b[0;32m~/.venv/lib/python3.10/site-packages/sqlalchemy/util/deprecations.py:281\u001b[0m, in \u001b[0;36mdeprecated_params.<locals>.decorate.<locals>.warned\u001b[0;34m(fn, *args, **kwargs)\u001b[0m\n\u001b[1;32m    274\u001b[0m     \u001b[38;5;28;01mif\u001b[39;00m m \u001b[38;5;129;01min\u001b[39;00m kwargs:\n\u001b[1;32m    275\u001b[0m         _warn_with_version(\n\u001b[1;32m    276\u001b[0m             messages[m],\n\u001b[1;32m    277\u001b[0m             versions[m],\n\u001b[1;32m    278\u001b[0m             version_warnings[m],\n\u001b[1;32m    279\u001b[0m             stacklevel\u001b[38;5;241m=\u001b[39m\u001b[38;5;241m3\u001b[39m,\n\u001b[1;32m    280\u001b[0m         )\n\u001b[0;32m--> 281\u001b[0m \u001b[38;5;28;01mreturn\u001b[39;00m \u001b[43mfn\u001b[49m\u001b[43m(\u001b[49m\u001b[38;5;241;43m*\u001b[39;49m\u001b[43margs\u001b[49m\u001b[43m,\u001b[49m\u001b[43m \u001b[49m\u001b[38;5;241;43m*\u001b[39;49m\u001b[38;5;241;43m*\u001b[39;49m\u001b[43mkwargs\u001b[49m\u001b[43m)\u001b[49m\n",
      "File \u001b[0;32m~/.venv/lib/python3.10/site-packages/sqlalchemy/engine/create.py:602\u001b[0m, in \u001b[0;36mcreate_engine\u001b[0;34m(url, **kwargs)\u001b[0m\n\u001b[1;32m    600\u001b[0m         \u001b[38;5;28;01mif\u001b[39;00m k \u001b[38;5;129;01min\u001b[39;00m kwargs:\n\u001b[1;32m    601\u001b[0m             dbapi_args[k] \u001b[38;5;241m=\u001b[39m pop_kwarg(k)\n\u001b[0;32m--> 602\u001b[0m     dbapi \u001b[38;5;241m=\u001b[39m \u001b[43mdbapi_meth\u001b[49m\u001b[43m(\u001b[49m\u001b[38;5;241;43m*\u001b[39;49m\u001b[38;5;241;43m*\u001b[39;49m\u001b[43mdbapi_args\u001b[49m\u001b[43m)\u001b[49m\n\u001b[1;32m    604\u001b[0m dialect_args[\u001b[38;5;124m\"\u001b[39m\u001b[38;5;124mdbapi\u001b[39m\u001b[38;5;124m\"\u001b[39m] \u001b[38;5;241m=\u001b[39m dbapi\n\u001b[1;32m    606\u001b[0m dialect_args\u001b[38;5;241m.\u001b[39msetdefault(\u001b[38;5;124m\"\u001b[39m\u001b[38;5;124mcompiler_linting\u001b[39m\u001b[38;5;124m\"\u001b[39m, compiler\u001b[38;5;241m.\u001b[39mNO_LINTING)\n",
      "File \u001b[0;32m~/.venv/lib/python3.10/site-packages/sqlalchemy/dialects/postgresql/psycopg2.py:696\u001b[0m, in \u001b[0;36mPGDialect_psycopg2.import_dbapi\u001b[0;34m(cls)\u001b[0m\n\u001b[1;32m    694\u001b[0m \u001b[38;5;129m@classmethod\u001b[39m\n\u001b[1;32m    695\u001b[0m \u001b[38;5;28;01mdef\u001b[39;00m\u001b[38;5;250m \u001b[39m\u001b[38;5;21mimport_dbapi\u001b[39m(\u001b[38;5;28mcls\u001b[39m):\n\u001b[0;32m--> 696\u001b[0m     \u001b[38;5;28;01mimport\u001b[39;00m\u001b[38;5;250m \u001b[39m\u001b[38;5;21;01mpsycopg2\u001b[39;00m\n\u001b[1;32m    698\u001b[0m     \u001b[38;5;28;01mreturn\u001b[39;00m psycopg2\n",
      "\u001b[0;31mModuleNotFoundError\u001b[0m: No module named 'psycopg2'"
     ]
    }
   ],
   "source": [
    "# import sqlalchemy\n",
    "# from sqlalchemy import create_engine\n",
    "# import pandas as pd\n",
    "\n",
    "# connection = {\"sslmode\": \"require\", \"target_session_attrs\": \"read-write\"}\n",
    "# postgres_credentials = { \"host\": \"rc1b-uh7kdmcx67eomesf.mdb.yandexcloud.net\", \n",
    "#                          \"port\": \"6432\",\n",
    "#                          \"dbname\": \"playground_mle_20250529_05fed48463\",\n",
    "#                          \"user\": \"mle_20250529_05fed48463\",\n",
    "#                          \"password\": \"0c567edd8ad8472e87d5c85cc4d664e4\" }\n",
    "# assert all([var_value != \"\" for var_value in list(postgres_credentials.values())])\n",
    "\n",
    "# # Создаем строку подключения\n",
    "# connection_string = f\"postgresql://{postgres_credentials['user']}:{postgres_credentials['password']}@{postgres_credentials['host']}:{postgres_credentials['port']}/{postgres_credentials['dbname']}\"\n",
    "\n",
    "# # Определяем название таблицы\n",
    "# TABLE_NAME = \"users_churn\"\n",
    "\n",
    "# # Устанавливаем соединение с базой данных\n",
    "# engine = create_engine(connection_string)\n",
    "\n",
    "# # Выполняем SQL-запрос и загружаем данные в DataFrame\n",
    "# df = pd.read_sql_query(f\"SELECT * FROM {TABLE_NAME}\", engine)"
   ]
  },
  {
   "cell_type": "code",
   "execution_count": null,
   "id": "953017a6",
   "metadata": {},
   "outputs": [
    {
     "ename": "ModuleNotFoundError",
     "evalue": "No module named 'psycopg'",
     "output_type": "error",
     "traceback": [
      "\u001b[0;31m---------------------------------------------------------------------------\u001b[0m",
      "\u001b[0;31mModuleNotFoundError\u001b[0m                       Traceback (most recent call last)",
      "Cell \u001b[0;32mIn[10], line 1\u001b[0m\n\u001b[0;32m----> 1\u001b[0m \u001b[38;5;28;01mimport\u001b[39;00m\u001b[38;5;250m \u001b[39m\u001b[38;5;21;01mpsycopg\u001b[39;00m\n\u001b[1;32m      2\u001b[0m connection \u001b[38;5;241m=\u001b[39m {\u001b[38;5;124m\"\u001b[39m\u001b[38;5;124msslmode\u001b[39m\u001b[38;5;124m\"\u001b[39m: \u001b[38;5;124m\"\u001b[39m\u001b[38;5;124mrequire\u001b[39m\u001b[38;5;124m\"\u001b[39m, \u001b[38;5;124m\"\u001b[39m\u001b[38;5;124mtarget_session_attrs\u001b[39m\u001b[38;5;124m\"\u001b[39m: \u001b[38;5;124m\"\u001b[39m\u001b[38;5;124mread-write\u001b[39m\u001b[38;5;124m\"\u001b[39m}\n\u001b[1;32m      4\u001b[0m postgres_credentials \u001b[38;5;241m=\u001b[39m { \u001b[38;5;124m\"\u001b[39m\u001b[38;5;124mhost\u001b[39m\u001b[38;5;124m\"\u001b[39m: \u001b[38;5;124m\"\u001b[39m\u001b[38;5;124mrc1b-uh7kdmcx67eomesf.mdb.yandexcloud.net\u001b[39m\u001b[38;5;124m\"\u001b[39m, \n\u001b[1;32m      5\u001b[0m                          \u001b[38;5;124m\"\u001b[39m\u001b[38;5;124mport\u001b[39m\u001b[38;5;124m\"\u001b[39m: \u001b[38;5;124m\"\u001b[39m\u001b[38;5;124m6432\u001b[39m\u001b[38;5;124m\"\u001b[39m,\n\u001b[1;32m      6\u001b[0m                          \u001b[38;5;124m\"\u001b[39m\u001b[38;5;124mdbname\u001b[39m\u001b[38;5;124m\"\u001b[39m: \u001b[38;5;124m\"\u001b[39m\u001b[38;5;124mplayground_mle_20250529_05fed48463\u001b[39m\u001b[38;5;124m\"\u001b[39m,\n\u001b[1;32m      7\u001b[0m                          \u001b[38;5;124m\"\u001b[39m\u001b[38;5;124muser\u001b[39m\u001b[38;5;124m\"\u001b[39m: \u001b[38;5;124m\"\u001b[39m\u001b[38;5;124mmle_20250529_05fed48463\u001b[39m\u001b[38;5;124m\"\u001b[39m,\n\u001b[1;32m      8\u001b[0m                          \u001b[38;5;124m\"\u001b[39m\u001b[38;5;124mpassword\u001b[39m\u001b[38;5;124m\"\u001b[39m: \u001b[38;5;124m\"\u001b[39m\u001b[38;5;124m0c567edd8ad8472e87d5c85cc4d664e4\u001b[39m\u001b[38;5;124m\"\u001b[39m }\n",
      "\u001b[0;31mModuleNotFoundError\u001b[0m: No module named 'psycopg'"
     ]
    }
   ],
   "source": [
    "# import psycopg\n",
    "# connection = {\"sslmode\": \"require\", \"target_session_attrs\": \"read-write\"}\n",
    "\n",
    "# postgres_credentials = { \"host\": \"rc1b-uh7kdmcx67eomesf.mdb.yandexcloud.net\", \n",
    "#                          \"port\": \"6432\",\n",
    "#                          \"dbname\": \"playground_mle_20250529_05fed48463\",\n",
    "#                          \"user\": \"mle_20250529_05fed48463\",\n",
    "#                          \"password\": \"0c567edd8ad8472e87d5c85cc4d664e4\" }\n",
    "# assert all([var_value != \"\" for var_value in list(postgres_credentials.values())])\n",
    "\n",
    "# connection.update(postgres_credentials)\n",
    "\n",
    "# # определим название таблицы, в которой хранятся наши данные.\n",
    "# TABLE_NAME = \"users_churn\"\n",
    "\n",
    "# # эта конструкция создаёт контекстное управление для соединения с базой данных \n",
    "# # оператор with гарантирует, что соединение будет корректно закрыто после выполнения всех операций \n",
    "# # закрыто оно будет даже в случае ошибки, чтобы не допустить \"утечку памяти\"\n",
    "# with psycopg.connect(**connection) as conn:\n",
    "\n",
    "# # создаёт объект курсора для выполнения запросов к базе данных\n",
    "# # с помощью метода execute() выполняется SQL-запрос для выборки данных из таблицы TABLE_NAME\n",
    "#     with conn.cursor() as cur:\n",
    "#         cur.execute(f\"SELECT * FROM {TABLE_NAME}\")\n",
    "                \n",
    "#                 # извлекаем все строки, полученные в результате выполнения запроса\n",
    "#         data = cur.fetchall()\n",
    "\n",
    "#                 # получает список имён столбцов из объекта курсора\n",
    "#         columns = [col[0] for col in cur.description]\n",
    "\n",
    "# # создаёт объект DataFrame из полученных данных и имён столбцов. \n",
    "# # это позволяет удобно работать с данными в Python, используя библиотеку Pandas.\n",
    "# df = pd.DataFrame(data, columns=columns) "
   ]
  }
 ],
 "metadata": {
  "kernelspec": {
   "display_name": ".venv",
   "language": "python",
   "name": "python3"
  },
  "language_info": {
   "codemirror_mode": {
    "name": "ipython",
    "version": 3
   },
   "file_extension": ".py",
   "mimetype": "text/x-python",
   "name": "python",
   "nbconvert_exporter": "python",
   "pygments_lexer": "ipython3",
   "version": "3.10.12"
  }
 },
 "nbformat": 4,
 "nbformat_minor": 5
}
