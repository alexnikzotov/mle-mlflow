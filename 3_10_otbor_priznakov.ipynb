{
 "cells": [
  {
   "cell_type": "markdown",
   "id": "0684d14a",
   "metadata": {},
   "source": [
    "<h1><center>ОТБОР ПРИЗНАКОВ</center></h1>\n",
    "\n",
    "Вернёмся к модели «Космолайна», предсказывающей отток клиентов. Вы уже обучили её базовую версию, а также вариант модели с дополнительными признаками. Чтобы улучшить качество предсказаний модели и увеличить скорость её работы в продакшене, избавьтесь от лишних признаков, используя методы, изученные в предыдущем уроке.\n",
    "\n",
    "В начале определите глобальные переменные. Вот шаблон того, как это можно сделать:"
   ]
  },
  {
   "cell_type": "code",
   "execution_count": null,
   "id": "5bd2815b",
   "metadata": {},
   "outputs": [],
   "source": [
    "import pandas as pd\n",
    "import numpy as np\n",
    "import os\n",
    "import psycopg\n",
    "import mlflow\n",
    "from mlflow.tracking import MlflowClient\n",
    "from catboost import CatBoostClassifier\n",
    "from mlxtend.feature_selection import SequentialFeatureSelector as SFS\n",
    "from mlxtend.plotting import plot_sequential_feature_selection as plot_sfs\n",
    "from sklearn.ensemble import RandomForestClassifier\n",
    "import matplotlib.pyplot as plt\n",
    "from sklearn.compose import ColumnTransformer\n",
    "from sklearn.pipeline import Pipeline\n",
    "from sklearn.preprocessing import ( OneHotEncoder, SplineTransformer, QuantileTransformer, StandardScaler,\n",
    "                                    RobustScaler, PolynomialFeatures, KBinsDiscretizer )\n",
    "from sklearn.model_selection import train_test_split\n",
    "from sklearn.metrics import accuracy_score\n",
    "from autofeat import AutoFeatRegressor, AutoFeatClassifier\n",
    "\n",
    "import catboost as cb\n",
    "from catboost import CatBoostClassifier\n",
    "from category_encoders import CatBoostEncoder\n",
    "\n",
    "TABLE_NAME = \"clean_users_churn\" # таблица с данными\n",
    "TRACKING_SERVER_HOST = \"127.0.0.1\"\n",
    "TRACKING_SERVER_PORT = 5000\n",
    "\n",
    "EXPERIMENT_NAME = \"sign_selection\" # название эксперимента\n",
    "RUN_NAME = \"sign_selection\" \n",
    "REGISTRY_MODEL_NAME = \"sign_selection\" # название зарегистрированной модели \n",
    "FS_ASSETS = \"fs_assets\" \n",
    "\n",
    "experiment_id = mlflow.create_experiment(EXPERIMENT_NAME)\\\n",
    "    if not mlflow.get_experiment_by_name(EXPERIMENT_NAME)\\\n",
    "    else mlflow.get_experiment_by_name(EXPERIMENT_NAME).experiment_id"
   ]
  },
  {
   "cell_type": "markdown",
   "id": "893786eb",
   "metadata": {},
   "source": [
    "Далее загрузите данные для задачи оттока из таблицы в базе данных PostgreSQL и положите их в переменную df."
   ]
  },
  {
   "cell_type": "code",
   "execution_count": null,
   "id": "b9db2b03",
   "metadata": {},
   "outputs": [],
   "source": [
    "connection = {\"sslmode\": \"require\", \"target_session_attrs\": \"read-write\"}\n",
    "postgres_credentials = {\"host\": 'rc1b-uh7kdmcx67eomesf.mdb.yandexcloud.net', #os.getenv(\"DB_DESTINATION_HOST\"),\n",
    "                        \"port\": '6432', #os.getenv(\"DB_DESTINATION_PORT\"),\n",
    "                        \"dbname\": 'playground_mle_20250529_05fed48463', #os.getenv(\"DB_DESTINATION_NAME\"),\n",
    "                        \"user\": 'mle_20250529_05fed48463', #os.getenv(\"DB_DESTINATION_USER\"),\n",
    "                        \"password\": '0c567edd8ad8472e87d5c85cc4d664e4' } #os.getenv(\"DB_DESTINATION_PASSWORD\")}\n",
    "connection.update(postgres_credentials)\n",
    "\n",
    "with psycopg.connect(**connection) as conn:\n",
    "    with conn.cursor() as cur:\n",
    "        cur.execute(f\"SELECT * FROM {TABLE_NAME}\")\n",
    "        data = cur.fetchall()\n",
    "        columns = [col[0] for col in cur.description]\n",
    "\n",
    "df = pd.DataFrame(data, columns=columns)\n",
    "df['target'] = (df['end_date'].notna()).astype(int)\n",
    "df.head(2) "
   ]
  },
  {
   "cell_type": "markdown",
   "id": "e9a3ca21",
   "metadata": {},
   "source": [
    "После того как вы выделили категориальные колонки, закодируйте их для подачи в вашу модель:"
   ]
  },
  {
   "cell_type": "markdown",
   "id": "bdac363c",
   "metadata": {},
   "source": [
    "**Обучим модель**. Подготовим данные:\n"
   ]
  },
  {
   "cell_type": "code",
   "execution_count": null,
   "id": "78842a90",
   "metadata": {},
   "outputs": [],
   "source": [
    "# Выделим признаки в три отдельные таблицы для дальнейшей работы:\n",
    "features = df.drop(['customer_id','target'],axis=1)\n",
    "num_features = features.select_dtypes(include=['float', 'int'])\n",
    "date_features = features.select_dtypes(include='datetime64[ns]')\n",
    "cat_features = features.select_dtypes(include='object')\n",
    "\n",
    "# Посчитаем колво уникальных значений для катег. переменных и создадим создадим два датасета:\n",
    "unique_values_per_col = cat_features.nunique().value_counts()\n",
    "binary_cat_features = cat_features[ [i for i in cat_features.columns if cat_features[i].nunique()==2] ]\n",
    "other_cat_features = cat_features[ [i for i in cat_features.columns if cat_features[i].nunique()!=2] ]\n",
    "\n",
    "# Бинарные подразделяем на два - \"да/нет\" и другие бинарные:\n",
    "yes_no_features = binary_cat_features[ [i for i in binary_cat_features.columns if\\\n",
    "binary_cat_features[i].isin(['Yes','yes','No','no',None,np.nan]).all()==True] ]\n",
    "other_binary_features = binary_cat_features[ [i for i in binary_cat_features.columns if\\\n",
    "binary_cat_features[i].isin(['Yes','yes','No','no',None,np.nan]).all()!=True] ]\n",
    "\n",
    "# Дубликаты\n",
    "is_duplicated_id = df.duplicated(subset=['customer_id'], keep=False)\n",
    "\n",
    "# Пропуски\n",
    "cols_with_nans = df.isnull().sum()\n",
    "cols_with_nans = cols_with_nans[cols_with_nans > 0].index.drop('end_date')\n",
    "for col in cols_with_nans:\n",
    "    if df[col].dtype in [float, int]:\n",
    "        fill_value = df[col].mean()\n",
    "    elif df[col].dtype == 'object':\n",
    "        fill_value = df[col].mode().iloc[0]\n",
    "    df[col] = df[col].fillna(fill_value)\n",
    "\n",
    "# Выбросы\n",
    "num_cols = df.select_dtypes(['float']).columns\n",
    "threshold = 1.5\n",
    "potential_outliers = pd.DataFrame()\n",
    "for col in num_cols:\n",
    "\tQ1 = df[col].quantile(0.25)\n",
    "\tQ3 = df[col].quantile(0.75)\n",
    "\tIQR = Q3 - Q1\n",
    "\tmargin = threshold * IQR\n",
    "\tlower = Q1 - margin\n",
    "\tupper = Q3 + margin\n",
    "\tpotential_outliers[col] = ~df[col].between(lower, upper)\n",
    "outliers = potential_outliers.any(axis=1)\n",
    "\n",
    "df.drop(columns=['id', 'customer_id', 'begin_date', 'end_date'], inplace=True)\n",
    "df[-3:]\n"
   ]
  },
  {
   "cell_type": "markdown",
   "id": "bbbae780",
   "metadata": {},
   "source": [
    "Обучим модель:"
   ]
  },
  {
   "cell_type": "code",
   "execution_count": null,
   "id": "97b03545",
   "metadata": {},
   "outputs": [],
   "source": [
    "\n",
    "# Разделим данные на две части - для обучения и для проверки качества предсказания:\n",
    "X_tr, X_val, y_tr, y_val = train_test_split(df, df['target'], stratify=df['target']) \n",
    "\n",
    "# Тренировочная выборка\n",
    "cat_features_tr = X_tr.select_dtypes(include='object')\n",
    "potential_binary_features_tr = cat_features_tr.nunique() == 2\n",
    "\n",
    "binary_cat_features_tr = cat_features_tr[potential_binary_features_tr[potential_binary_features_tr].index]\n",
    "other_cat_features_tr = cat_features_tr[potential_binary_features_tr[~potential_binary_features_tr].index]\n",
    "num_features_tr = X_tr.select_dtypes(['float'])\n",
    "\n",
    "# Валидационная выборка\n",
    "cat_features_val = X_val.select_dtypes(include='object')\n",
    "potential_binary_features_val = cat_features_val.nunique() == 2\n",
    "\n",
    "binary_cat_features_val = cat_features_val[potential_binary_features_val[potential_binary_features_val].index]\n",
    "other_cat_features_val = cat_features_val[potential_binary_features_val[~potential_binary_features_val].index]\n",
    "num_features_val = X_val.select_dtypes(['float'])\n",
    "\n",
    "binary_cols = binary_cat_features_tr.columns.tolist()\n",
    "non_binary_cat_cols = other_cat_features_tr.columns.tolist()\n",
    "num_cols = num_features_tr.columns.tolist()\n",
    "\n",
    "# Определим список трансформаций в рамках ColumnTransformer\n",
    "preprocessor = ColumnTransformer( [ ('binary', OneHotEncoder(drop='if_binary'), binary_cols),\n",
    "                                    ('cat', CatBoostEncoder(), non_binary_cat_cols),\n",
    "                                    ('num', StandardScaler(), num_cols) ],verbose_feature_names_out=False )\n",
    "\n",
    "# Трансформируем исходные данные с помощью созданного preprocessor\n",
    "X_tr_transformed = preprocessor.fit_transform(X_tr, y_tr)\n",
    "X_val_transformed = preprocessor.transform(X_val)\n",
    "\n",
    "# Создадим модель:\n",
    "model = CatBoostClassifier()\n",
    "\n",
    "# Обучим модель:\n",
    "model.fit(X_tr_transformed, y_tr)"
   ]
  },
  {
   "cell_type": "markdown",
   "id": "19b25f1a",
   "metadata": {},
   "source": [
    "Проверим качество нашей модели:"
   ]
  },
  {
   "cell_type": "code",
   "execution_count": null,
   "id": "97fce3c2",
   "metadata": {},
   "outputs": [],
   "source": [
    "# Сделаем предсказание:\n",
    "y_val_pred = model.predict(X_val_transformed)\n",
    "\n",
    "# Определим точность:\n",
    "accuracy = str(accuracy_score(y_val, y_val_pred))[:4]\n",
    "print(f\"Точность модели: {accuracy}\")"
   ]
  },
  {
   "cell_type": "markdown",
   "id": "fc3f998d",
   "metadata": {},
   "source": [
    "Напомним, что отбор признаков важно проводить на обучающем наборе данных, чтобы исключить переобучение.\n",
    "<br>Для отбора признаков используйте библиотеку mlxtend и методы Sequential Forward Selection (SFS) и Sequential Backward Selection (SBS).\n",
    "\n",
    "---\n",
    "\n",
    "**Задание 1**\n",
    "\n",
    "Отберите десять лучших признаков при помощи методов SFS и SBS. Используйте такие настройки:\n",
    "- параметр кросс-валидации равен 4;\n",
    "- функция floating=False, то есть выключена;\n",
    "- в качестве оценщика используйте алгоритм случайного леса c числом деревьев 300, а основной метрикой будет roc_auc.\n",
    "\n",
    "Имена отобранных признаков сохраните в переменные top_sfs и top_sbs."
   ]
  },
  {
   "cell_type": "code",
   "execution_count": null,
   "id": "71bd5d38",
   "metadata": {},
   "outputs": [],
   "source": [
    "from sklearn.ensemble import RandomForestClassifier\n",
    "from mlxtend.feature_selection import SequentialFeatureSelector as SFS\n",
    "\n",
    "estimator = RandomForestClassifier(n_estimators=300) # ваш код здесь #\n",
    "print('estimator')\n",
    "\n",
    "sfs = SFS(estimator, k_features=10, forward=True, floating=False, scoring='roc_auc', cv=4, n_jobs=-1) # ваш код здесь #\n",
    "print('sfs')\n",
    "sbs = SFS(estimator, k_features=10, forward=False, floating=False, scoring='roc_auc', cv=4, n_jobs=-1) # ваш код здесь #\n",
    "print('sbs')\n",
    "\n",
    "sfs = sfs.fit(X_tr_transformed, y_tr) # ваш код здесь # запустите отбор признаков\n",
    "print('sfs2')\n",
    "sbs = sbs.fit(X_tr_transformed, y_tr) # ваш код здесь #\n",
    "print('sbs2')\n",
    "\n",
    "top_sfs = sfs.k_feature_names_ # ваш код здесь #\n",
    "print('top_sfs')\n",
    "top_sbs = sbs.k_feature_names_ # ваш код здесь #\n",
    "print('top_sbs')\n",
    "\n",
    "print('\\nSequential Forward Selection (k=10)')\n",
    "print('CV Score:')\n",
    "print(sfs.k_score_)\n",
    "\n",
    "print('\\nSequential Backward Selection')\n",
    "print('CV Score:')\n",
    "print(sbs.k_score_)"
   ]
  },
  {
   "cell_type": "markdown",
   "id": "93ac4138",
   "metadata": {},
   "source": [
    "Отбор признаков — тоже исследование, и его результаты важно сохранять. После того как вы запустили sfs.fit() или sbs.fit(), на выходе получаются объекты sfs_df и sbs_df, из которых просто получить таблицу с результатами отбора. Сделать это можно так: "
   ]
  },
  {
   "cell_type": "code",
   "execution_count": null,
   "id": "7f0ab694",
   "metadata": {},
   "outputs": [],
   "source": [
    "sfs_df = pd.DataFrame.from_dict(sfs.get_metric_dict()).T\n",
    "sbs_df = pd.DataFrame.from_dict(sbs.get_metric_dict()).T "
   ]
  },
  {
   "cell_type": "markdown",
   "id": "4bf1bda5",
   "metadata": {},
   "source": [
    "Сохраните этот датафрейм в CSV-файл для каждого из методов отбора признаков:"
   ]
  },
  {
   "cell_type": "code",
   "execution_count": null,
   "id": "a0ed7dc1",
   "metadata": {},
   "outputs": [],
   "source": [
    "# os.mkdir(FS_ASSETS)\n",
    "\n",
    "sfs_df.to_csv(f\"{FS_ASSETS}/sfs.csv\")\n",
    "sbs_df.to_csv(f\"{FS_ASSETS}/sbs.csv\") "
   ]
  },
  {
   "cell_type": "markdown",
   "id": "02ee5e26",
   "metadata": {},
   "source": [
    "Постройте графики отбора признаков для методов SFS и SBS и сохраните графики в директорию с артефактами.\n",
    "Начнём с SFS. "
   ]
  },
  {
   "cell_type": "code",
   "execution_count": null,
   "id": "f3dce0db",
   "metadata": {},
   "outputs": [],
   "source": [
    "import matplotlib.pyplot as plt\n",
    "from mlxtend.plotting import plot_sequential_feature_selection as plot_sfs\n",
    "\n",
    "fig = plot_sfs(sfs.get_metric_dict(), kind='std_dev')\n",
    "\n",
    "plt.title('Sequential Forward Selection (w. StdDev)')\n",
    "plt.grid()\n",
    "plt.show()\n",
    "\n",
    "plt.savefig(f\"{FS_ASSETS}/sfs.png\") "
   ]
  },
  {
   "cell_type": "markdown",
   "id": "50839e7f",
   "metadata": {},
   "source": [
    "График визуализирует процесс последовательного прямого отбора признаков SFS с указанием стандартного отклонения StdDev. По оси x — количество признаков, по оси y — производительность модели. Очевидно, что с увеличением числа признаков производительность повышается, особенно заметен рост при добавлении первых нескольких признаков. Но примерно после добавления пяти признаков улучшение замедляется и стабилизируется.\n",
    "\n",
    "\n",
    "Теперь график SBS."
   ]
  },
  {
   "cell_type": "code",
   "execution_count": null,
   "id": "d1a097a9",
   "metadata": {},
   "outputs": [],
   "source": [
    "import matplotlib.pyplot as plt\n",
    "from mlxtend.plotting import plot_sequential_feature_selection as plot_sfs\n",
    "\n",
    "fig = plot_sfs(sbs.get_metric_dict(), kind='std_dev')\n",
    "\n",
    "plt.title('Sequential Backward Selection (w. StdDev)')\n",
    "plt.grid()\n",
    "plt.show()\n",
    "\n",
    "plt.savefig(f\"{FS_ASSETS}/sbs.png\") "
   ]
  },
  {
   "cell_type": "markdown",
   "id": "6c22fbf6",
   "metadata": {},
   "source": [
    "**Задание 2**\n",
    "\n",
    "Создайте два списка list в Python, в которых будут храниться признаки, отобранные путём пересечения и объединения. Файл для пересекающихся множеств назовите interc_features, для объединяющихся — union_features.\n",
    "Для проверки решения вернитесь в это задание и нажмите кнопку Проверить."
   ]
  },
  {
   "cell_type": "code",
   "execution_count": null,
   "id": "78736856",
   "metadata": {},
   "outputs": [],
   "source": [
    "interc_features = list(set(top_sbs) & set(top_sfs))\n",
    "union_features = list(set(top_sbs) | set(top_sfs))"
   ]
  },
  {
   "cell_type": "markdown",
   "id": "2fe93dba",
   "metadata": {},
   "source": []
  },
  {
   "cell_type": "code",
   "execution_count": null,
   "id": "79d8c8ef",
   "metadata": {},
   "outputs": [],
   "source": [
    "# experiment_id = mlflow.get_experiment_by_name(EXPERIMENT_NAME).experiment_id\n",
    "\n",
    "# with mlflow.start_run(run_name=f\"{RUN_NAME}\", experiment_id=experiment_id) as run:\n",
    "#     run_id = run.info.run_id\n",
    "   \n",
    "#     mlflow.log_artifacts(FS_ASSETS)"
   ]
  },
  {
   "cell_type": "markdown",
   "id": "fdee2be1",
   "metadata": {},
   "source": [
    "Регистрируем:"
   ]
  },
  {
   "cell_type": "code",
   "execution_count": null,
   "id": "d9ebc5a0",
   "metadata": {},
   "outputs": [],
   "source": [
    "os.environ[\"MLFLOW_S3_ENDPOINT_URL\"] = 'https://storage.yandexcloud.net'\n",
    "os.environ[\"AWS_ACCESS_KEY_ID\"] = \"YCAJE3Nlz8iDILW5VTYM1ihQB\"\n",
    "os.environ[\"AWS_SECRET_ACCESS_KEY\"] = \"YCPjvS7uwhvJpUj3bKm8X-IX4QAwBIVsvX61IL44\"\n",
    "os.environ['MLFLOW_ARTIFACT_URI'] = 'http://s3-student-mle-20250529-05fed48463'\n",
    "\n",
    "TRACKING_SERVER_HOST = '127.0.0.1'\n",
    "TRACKING_SERVER_PORT = 5000\n",
    "\n",
    "mlflow.set_tracking_uri(f\"http://{TRACKING_SERVER_HOST}:{TRACKING_SERVER_PORT}\")\n",
    "mlflow.set_registry_uri(f\"http://{TRACKING_SERVER_HOST}:{TRACKING_SERVER_PORT}\")\n",
    "\n",
    "experiment_id = mlflow.get_experiment_by_name(EXPERIMENT_NAME).experiment_id\n",
    "\n",
    "with mlflow.start_run(run_name=RUN_NAME, experiment_id=experiment_id) as run:\n",
    "    mlflow.sklearn.log_model(model, REGISTRY_MODEL_NAME)\n",
    "    model_registred_name = REGISTRY_MODEL_NAME\n",
    "    mlflow.register_model(\"runs:/{}/model\".format(run.info.run_id), model_registred_name)\n",
    "    # model_version_id = mlflow.get_latest_versions(model_registred_name)[0].version\n",
    "    run_id = run.info.run_id\n",
    "    mlflow.log_artifacts(FS_ASSETS)"
   ]
  },
  {
   "cell_type": "markdown",
   "id": "ad1c7bd4",
   "metadata": {},
   "source": [
    "**Задание 4**\n",
    "\n",
    "\n",
    "Теперь обучите две версии модели на двух наборах признаков и сравните метрики. Зарегистрируйте обе модели в MLflow в экспериментах feature_selection_union и feature_selection_intersection. В переменные ниже вставьте соответствующую информацию.\n",
    "\n",
    "Укажем название эксперимента и название **первой модели и версии запуска**:"
   ]
  },
  {
   "cell_type": "code",
   "execution_count": null,
   "id": "d8dd134a",
   "metadata": {},
   "outputs": [],
   "source": [
    "\n",
    "EXPERIMENT_NAME = \"feature_selection\" # название эксперимента\n",
    "\n",
    "REGISTRY_MODEL_NAME = \"feature_selector\" # название зарегистрированной модели \n",
    "RUN_NAME = \"feature_selection_union\" \n",
    "\n",
    "experiment_id = mlflow.create_experiment(EXPERIMENT_NAME)\\\n",
    "    if not mlflow.get_experiment_by_name(EXPERIMENT_NAME)\\\n",
    "    else mlflow.get_experiment_by_name(EXPERIMENT_NAME).experiment_id"
   ]
  },
  {
   "cell_type": "markdown",
   "id": "a2a094d6",
   "metadata": {},
   "source": [
    "Обучим первую версию модели:"
   ]
  },
  {
   "cell_type": "code",
   "execution_count": null,
   "id": "94675d14",
   "metadata": {},
   "outputs": [],
   "source": [
    "# Разделим данные на две части - для обучения и для проверки качества предсказания:\n",
    "X_tr, X_val, y_tr, y_val = train_test_split(df, df['target'], stratify=df['target']) \n",
    "\n",
    "# Тренировочная выборка\n",
    "cat_features_tr = X_tr.select_dtypes(include='object')\n",
    "potential_binary_features_tr = cat_features_tr.nunique() == 2\n",
    "\n",
    "binary_cat_features_tr = cat_features_tr[potential_binary_features_tr[potential_binary_features_tr].index]\n",
    "other_cat_features_tr = cat_features_tr[potential_binary_features_tr[~potential_binary_features_tr].index]\n",
    "num_features_tr = X_tr.select_dtypes(['float'])\n",
    "\n",
    "# Валидационная выборка\n",
    "cat_features_val = X_val.select_dtypes(include='object')\n",
    "potential_binary_features_val = cat_features_val.nunique() == 2\n",
    "\n",
    "binary_cat_features_val = cat_features_val[potential_binary_features_val[potential_binary_features_val].index]\n",
    "other_cat_features_val = cat_features_val[potential_binary_features_val[~potential_binary_features_val].index]\n",
    "num_features_val = X_val.select_dtypes(['float'])\n",
    "\n",
    "binary_cols = binary_cat_features_tr.columns.tolist()\n",
    "non_binary_cat_cols = other_cat_features_tr.columns.tolist()\n",
    "num_cols = num_features_tr.columns.tolist()\n",
    "\n",
    "# Определим список трансформаций в рамках ColumnTransformer\n",
    "preprocessor = ColumnTransformer( [ ('binary', OneHotEncoder(drop='if_binary'), binary_cols),\n",
    "                                    ('cat', CatBoostEncoder(), non_binary_cat_cols),\n",
    "                                    ('num', StandardScaler(), num_cols) ],verbose_feature_names_out=False )\n",
    "\n",
    "# Трансформируем исходные данные с помощью созданного preprocessor\n",
    "X_tr_transformed = preprocessor.fit_transform(X_tr, y_tr)\n",
    "X_val_transformed = preprocessor.transform(X_val)\n",
    "\n",
    "# Создадим модель:\n",
    "model = CatBoostClassifier()\n",
    "\n",
    "# Обучим модель:\n",
    "model.fit(X_tr_transformed, y_tr)"
   ]
  },
  {
   "cell_type": "markdown",
   "id": "2c78b487",
   "metadata": {},
   "source": [
    "Регистрируем:"
   ]
  },
  {
   "cell_type": "code",
   "execution_count": null,
   "id": "73bb209c",
   "metadata": {},
   "outputs": [],
   "source": [
    "os.environ[\"MLFLOW_S3_ENDPOINT_URL\"] = 'https://storage.yandexcloud.net'\n",
    "os.environ[\"AWS_ACCESS_KEY_ID\"] = \"YCAJE3Nlz8iDILW5VTYM1ihQB\"\n",
    "os.environ[\"AWS_SECRET_ACCESS_KEY\"] = \"YCPjvS7uwhvJpUj3bKm8X-IX4QAwBIVsvX61IL44\"\n",
    "os.environ['MLFLOW_ARTIFACT_URI'] = 'http://s3-student-mle-20250529-05fed48463'\n",
    "\n",
    "TRACKING_SERVER_HOST = '127.0.0.1'\n",
    "TRACKING_SERVER_PORT = 5000\n",
    "\n",
    "mlflow.set_tracking_uri(f\"http://{TRACKING_SERVER_HOST}:{TRACKING_SERVER_PORT}\")\n",
    "mlflow.set_registry_uri(f\"http://{TRACKING_SERVER_HOST}:{TRACKING_SERVER_PORT}\")\n",
    "\n",
    "experiment_id = mlflow.get_experiment_by_name(EXPERIMENT_NAME).experiment_id\n",
    "\n",
    "with mlflow.start_run(run_name=RUN_NAME, experiment_id=experiment_id) as run:\n",
    "    mlflow.sklearn.log_model(model, REGISTRY_MODEL_NAME)\n",
    "    model_registred_name = REGISTRY_MODEL_NAME\n",
    "    mlflow.register_model(\"runs:/{}/model\".format(run.info.run_id), model_registred_name)\n",
    "    # model_version_id = mlflow.get_latest_versions(model_registred_name)[0].version\n",
    "    run_id = run.info.run_id\n",
    "    mlflow.log_artifacts(FS_ASSETS)"
   ]
  },
  {
   "cell_type": "markdown",
   "id": "454a9651",
   "metadata": {},
   "source": [
    "Укажем название эксперимента и **вторую версию запуска**:"
   ]
  },
  {
   "cell_type": "code",
   "execution_count": null,
   "id": "df054077",
   "metadata": {},
   "outputs": [],
   "source": [
    "\n",
    "EXPERIMENT_NAME = \"feature_selection\" # название эксперимента\n",
    "\n",
    "REGISTRY_MODEL_NAME = \"feature_selector\" # название зарегистрированной модели \n",
    "RUN_NAME = \"feature_selection_intersection\" \n",
    "\n",
    "experiment_id = mlflow.create_experiment(EXPERIMENT_NAME)\\\n",
    "    if not mlflow.get_experiment_by_name(EXPERIMENT_NAME)\\\n",
    "    else mlflow.get_experiment_by_name(EXPERIMENT_NAME).experiment_id"
   ]
  },
  {
   "cell_type": "markdown",
   "id": "73351f59",
   "metadata": {},
   "source": [
    "Обучим первую версию модели:"
   ]
  },
  {
   "cell_type": "code",
   "execution_count": null,
   "id": "cce8a7f1",
   "metadata": {},
   "outputs": [],
   "source": [
    "# Разделим данные на две части - для обучения и для проверки качества предсказания:\n",
    "X_tr, X_val, y_tr, y_val = train_test_split(df, df['target'], stratify=df['target']) \n",
    "\n",
    "# Тренировочная выборка\n",
    "cat_features_tr = X_tr.select_dtypes(include='object')\n",
    "potential_binary_features_tr = cat_features_tr.nunique() == 2\n",
    "\n",
    "binary_cat_features_tr = cat_features_tr[potential_binary_features_tr[potential_binary_features_tr].index]\n",
    "other_cat_features_tr = cat_features_tr[potential_binary_features_tr[~potential_binary_features_tr].index]\n",
    "num_features_tr = X_tr.select_dtypes(['float'])\n",
    "\n",
    "# Валидационная выборка\n",
    "cat_features_val = X_val.select_dtypes(include='object')\n",
    "potential_binary_features_val = cat_features_val.nunique() == 2\n",
    "\n",
    "binary_cat_features_val = cat_features_val[potential_binary_features_val[potential_binary_features_val].index]\n",
    "other_cat_features_val = cat_features_val[potential_binary_features_val[~potential_binary_features_val].index]\n",
    "num_features_val = X_val.select_dtypes(['float'])\n",
    "\n",
    "binary_cols = binary_cat_features_tr.columns.tolist()\n",
    "non_binary_cat_cols = other_cat_features_tr.columns.tolist()\n",
    "num_cols = num_features_tr.columns.tolist()\n",
    "\n",
    "# Определим список трансформаций в рамках ColumnTransformer\n",
    "preprocessor = ColumnTransformer( [ ('binary', OneHotEncoder(drop='if_binary'), binary_cols),\n",
    "                                    ('cat', CatBoostEncoder(), non_binary_cat_cols),\n",
    "                                    ('num', StandardScaler(), num_cols) ],verbose_feature_names_out=False )\n",
    "\n",
    "# Трансформируем исходные данные с помощью созданного preprocessor\n",
    "X_tr_transformed = preprocessor.fit_transform(X_tr, y_tr)\n",
    "X_val_transformed = preprocessor.transform(X_val)\n",
    "\n",
    "# Создадим модель:\n",
    "model = CatBoostClassifier()\n",
    "\n",
    "# Обучим модель:\n",
    "model.fit(X_tr_transformed, y_tr)"
   ]
  },
  {
   "cell_type": "markdown",
   "id": "ce4a33ac",
   "metadata": {},
   "source": [
    "Регистрируем:"
   ]
  },
  {
   "cell_type": "code",
   "execution_count": null,
   "id": "2e296153",
   "metadata": {},
   "outputs": [],
   "source": [
    "os.environ[\"MLFLOW_S3_ENDPOINT_URL\"] = 'https://storage.yandexcloud.net'\n",
    "os.environ[\"AWS_ACCESS_KEY_ID\"] = \"YCAJE3Nlz8iDILW5VTYM1ihQB\"\n",
    "os.environ[\"AWS_SECRET_ACCESS_KEY\"] = \"YCPjvS7uwhvJpUj3bKm8X-IX4QAwBIVsvX61IL44\"\n",
    "os.environ['MLFLOW_ARTIFACT_URI'] = 'http://s3-student-mle-20250529-05fed48463'\n",
    "\n",
    "TRACKING_SERVER_HOST = '127.0.0.1'\n",
    "TRACKING_SERVER_PORT = 5000\n",
    "\n",
    "mlflow.set_tracking_uri(f\"http://{TRACKING_SERVER_HOST}:{TRACKING_SERVER_PORT}\")\n",
    "mlflow.set_registry_uri(f\"http://{TRACKING_SERVER_HOST}:{TRACKING_SERVER_PORT}\")\n",
    "\n",
    "experiment_id = mlflow.get_experiment_by_name(EXPERIMENT_NAME).experiment_id\n",
    "\n",
    "with mlflow.start_run(run_name=RUN_NAME, experiment_id=experiment_id) as run:\n",
    "    mlflow.sklearn.log_model(model, REGISTRY_MODEL_NAME)\n",
    "    model_registred_name = REGISTRY_MODEL_NAME\n",
    "    mlflow.register_model(\"runs:/{}/model\".format(run.info.run_id), model_registred_name)\n",
    "    # model_version_id = mlflow.get_latest_versions(model_registred_name)[0].version\n",
    "    run_id = run.info.run_id\n",
    "    mlflow.log_artifacts(FS_ASSETS)"
   ]
  },
  {
   "cell_type": "code",
   "execution_count": null,
   "id": "74910b37",
   "metadata": {},
   "outputs": [],
   "source": [
    "'''В базе данных playground_mle_20250529_05fed48463 ожидается две записи по указанным параметрам, найдено - 0. Проверяющий запрос:\n",
    "\n",
    "select * \n",
    "from runs join model_versions on runs.run_uuid=model_versions.run_id \n",
    "where runs.name in ('feature_selector', 'feature_selector') and \n",
    "      runs.run_uuid in ('feature_selection_intersection', 'feature_selection_union') \n",
    "      and model_versions.name = 'feature_selector' and version in (1, 1)'''"
   ]
  }
 ],
 "metadata": {
  "kernelspec": {
   "display_name": ".venv",
   "language": "python",
   "name": "python3"
  },
  "language_info": {
   "codemirror_mode": {
    "name": "ipython",
    "version": 3
   },
   "file_extension": ".py",
   "mimetype": "text/x-python",
   "name": "python",
   "nbconvert_exporter": "python",
   "pygments_lexer": "ipython3",
   "version": "3.10.12"
  }
 },
 "nbformat": 4,
 "nbformat_minor": 5
}
