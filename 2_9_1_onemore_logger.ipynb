{
 "cells": [
  {
   "cell_type": "markdown",
   "id": "8bfc387a",
   "metadata": {},
   "source": [
    "<h1><center>МЕТОДЫ ЛОГИРОВАНИЯ МОДЕЛИ И ЕЁ ОКРУЖЕНИЯ</h1></center>\n",
    "\n",
    "Начнём с простого способа логирования модели в MLflow. Оно происходит следующим образом:"
   ]
  },
  {
   "cell_type": "code",
   "execution_count": null,
   "id": "a2cd92a8",
   "metadata": {},
   "outputs": [],
   "source": [
    "\n",
    "import mlflow\n",
    "\n",
    "experiment_id = '4'\n",
    "\n",
    "with mlflow.start_run(run_name='log_model', experiment_id=experiment_id) as run:\n",
    "    run_id = run.info.run_id\n",
    "  \n",
    "    model_info = mlflow.catboost.log_model(cb_model=model, artifact_path=\"models\") "
   ]
  },
  {
   "cell_type": "markdown",
   "id": "e5c91838",
   "metadata": {},
   "source": [
    "Как убедиться, что ваша модель была залогирована корректно? Попробуйте загрузить её из объектного хранилища при помощи функции load_model, в качестве параметра передав model_uri, — его можно получить из переменной model_info, в которой хранится вся информация о логировании конкретной модели в конкретном запуске. Например, сделать это можно так: "
   ]
  },
  {
   "cell_type": "code",
   "execution_count": null,
   "id": "9e33d1fd",
   "metadata": {},
   "outputs": [],
   "source": [
    "loaded_model = mlflow.catboost.load_model(model_uri=model_info.model_uri)"
   ]
  },
  {
   "cell_type": "markdown",
   "id": "855b9bd7",
   "metadata": {},
   "source": [
    "**Регистрация модели**\n",
    "\n",
    "Обычно полное сохранение модели осуществляется при её регистрации. \n",
    "<br>Регистрация модели отличается от простого логирования тем, что помещает модель в Model Registry. Это даёт возможность версионирования модели, установки тегов, назначения различных статусов и других важных атрибутов.\n",
    "Чтобы поместить что-то в Model Registry, необходимо с помощью кода подключиться к этому модулю MLflow. Процесс аналогичен подключению к Tracking Server. Как правило, URI Tracking Server и Model Registry совпадают. В нашем случае оба модуля поднимаются локально.\n",
    "\n"
   ]
  },
  {
   "cell_type": "code",
   "execution_count": null,
   "id": "63e160bc",
   "metadata": {},
   "outputs": [],
   "source": [
    "TRACKING_SERVER_HOST = \"127.0.0.1\"\n",
    "TRACKING_SERVER_PORT = 5000\n",
    "\n",
    "mlflow.set_tracking_uri(f\"http://{TRACKING_SERVER_HOST}:{TRACKING_SERVER_PORT}\")\n",
    "mlflow.set_registry_uri(f\"http://{TRACKING_SERVER_HOST}:{TRACKING_SERVER_PORT}\") "
   ]
  },
  {
   "cell_type": "markdown",
   "id": "c56a629d",
   "metadata": {},
   "source": [
    "**Чтобы зарегистрировать модель в MLflow**, в функции log_model используют параметр registered_model_name, в котором нужно указать название вашей модели в реестре —  оно должно быть уникальным. При такой регистрации версия модели будет автоматически обновляться на один пункт.\n",
    "<br>Базовый вариант регистрации модели выглядит следующим образом:"
   ]
  },
  {
   "cell_type": "code",
   "execution_count": null,
   "id": "40a02ad0",
   "metadata": {},
   "outputs": [],
   "source": [
    "experiment_id = '4'\n",
    "\n",
    "with mlflow.start_run(run_name='reg_model', experiment_id=experiment_id) as run:\n",
    "\n",
    "    model_info = mlflow.catboost.log_model(\n",
    "        cb_model=model,\n",
    "        artifact_path=\"models\",\n",
    "        registered_model_name=REGISTRY_MODEL_NAME ) "
   ]
  },
  {
   "cell_type": "markdown",
   "id": "fa3df998",
   "metadata": {},
   "source": [
    "Вот итоговый код:"
   ]
  },
  {
   "cell_type": "code",
   "execution_count": null,
   "id": "c1c6ba47",
   "metadata": {},
   "outputs": [],
   "source": [
    "import mlflow\n",
    "import numpy as np\n",
    "\n",
    "TRACKING_SERVER_HOST = \"127.0.0.1\"\n",
    "TRACKING_SERVER_PORT = 5000\n",
    "\n",
    "# напишите код, который подключает tracking и registry uri\n",
    "mlflow.set_tracking_uri(f\"http://{TRACKING_SERVER_HOST}:{TRACKING_SERVER_PORT}\")\n",
    "mlflow.set_registry_uri(f\"http://{TRACKING_SERVER_HOST}:{TRACKING_SERVER_PORT}\")\n",
    "\n",
    "experiment_id = '0'\n",
    "\n",
    "# указываем путь до окружения\n",
    "pip_requirements=\"../requirements.txt\"\n",
    "\n",
    "# формируем сигнатуру, дополнительно передавая параметры применения модели\n",
    "signature = mlflow.models.infer_signature(\n",
    "\tnp.array([[0.1, 0.2, 0.3], [0.1, 0.2, 0.3]]),\n",
    "\tnp.array([0.1, 0.2])\n",
    ")\n",
    "# формируем пример входных данных\n",
    "input_example = [[0.1, 0.2, 0.3], [0.1, 0.2, 0.3]]\n",
    "# предположим, мы хотим указать на то, что модель предсказывает на месяц вперёд\n",
    "metadata = {\"target_name\": \"churn\"}\n",
    "# путь до скрипта или ноутбука, который осуществляет обучение модели и валидацию\n",
    "code_paths = [\"train.py\", \"val_model.py\"]\n",
    "\n",
    "\n",
    "with mlflow.start_run(run_name=\"model_reg\", experiment_id=experiment_id) as run:\n",
    "    run_id = run.info.run_id\n",
    "  \n",
    "    model_info = mlflow.catboost.log_model( model, cb_model=model,\n",
    "                                           artifact_path='models',\n",
    "        registered_model_name=REGISTRY_MODEL_NAME,\n",
    "        pip_requirements=pip_requirements,\n",
    "        signature=signature,\n",
    "        input_example=input_example,\n",
    "        metadata=metadata,\n",
    "        code_paths=code_paths )"
   ]
  }
 ],
 "metadata": {
  "kernelspec": {
   "display_name": ".venv",
   "language": "python",
   "name": "python3"
  },
  "language_info": {
   "codemirror_mode": {
    "name": "ipython",
    "version": 3
   },
   "file_extension": ".py",
   "mimetype": "text/x-python",
   "name": "python",
   "nbconvert_exporter": "python",
   "pygments_lexer": "ipython3",
   "version": "3.10.12"
  }
 },
 "nbformat": 4,
 "nbformat_minor": 5
}
