{
 "cells": [
  {
   "cell_type": "markdown",
   "id": "86517ad8",
   "metadata": {},
   "source": [
    "<h1><center>ЛОГИРУЕМ МОДЕЛЬ</h1></center>\n",
    "\n",
    "Пора продолжить работу над проблемой оттока клиентов! После первой итерации вы получили базовое решение — модель логистической регрессии. Вы также провели свой первый эксперимент и залогировали основные артефакты и сам набор данных.\n",
    "<br><br>Прежде чем перейти к логированию модели в MLflow, важно убедиться, что вам доступна сама модель, а MLflow настроен в соответствии с предыдущими уроками. \n",
    "<br><br>\n",
    "1.(**команда sh run_mlflow_server.sh делает все шаги первого этапа**) Поднимите MLflow, используя предложенный ранее вариант конфигурации:\n",
    "\n",
    "- локальный Tracking Server на виртуальной машине,\n",
    "- удалённые хранилище экспериментов и хранилище артефактов.\n",
    "\n",
    "Не забудьте настроить соответствующие переменные окружения для подключения к базе данных Postgres и объектному хранилищу S3.\n",
    "\n",
    "2.(**код в этом блокноте**) Определите необходимые глобальные переменные. Одной из них будет EXPERIMENT_NAME, которую вы уже использовали. Вторую переменную, RUN_NAME, вы можете назвать самостоятельно, чтобы ясно отразить суть запуска.\n"
   ]
  },
  {
   "cell_type": "code",
   "execution_count": null,
   "id": "017715d7",
   "metadata": {},
   "outputs": [],
   "source": [
    "import os\n",
    "import mlflow\n",
    "import joblib\n",
    "from mlflow.tracking import MlflowClient\n",
    "import pandas as pd\n",
    "import random\n",
    "from sklearn.model_selection import train_test_split\n",
    "\n",
    "# определяем основные credentials, которые нужны для подключения к MLflow\n",
    "# важно, что credentials мы передаём для себя как пользователей Tracking Service\n",
    "# у вас должен быть доступ к бакету, в который вы будете складывать артефакты\n",
    "os.environ[\"MLFLOW_S3_ENDPOINT_URL\"] = \"https://storage.yandexcloud.net\" #endpoint бакета от YandexCloud\n",
    "os.environ[\"AWS_ACCESS_KEY_ID\"] = 'YCAJE3Nlz8iDILW5VTYM1ihQB' # os.getenv(\"AWS_ACCESS_KEY_ID\") # получаем id ключа бакета, к которому подключён MLFlow, из .env\n",
    "os.environ[\"AWS_SECRET_ACCESS_KEY\"] = 'YCPjvS7uwhvJpUj3bKm8X-IX4QAwBIVsvX61IL44' # os.getenv(\"AWS_SECRET_ACCESS_KEY\") #  получаем ключ бакета, к которому подключён MLFlow, из .env\n",
    "\n",
    "# определяем глобальные переменные\n",
    "# поднимаем MLflow локально\n",
    "TRACKING_SERVER_HOST = \"127.0.0.1\"\n",
    "TRACKING_SERVER_PORT = 5000\n",
    "\n",
    "YOUR_NAME = \"unique_experiment-3\" # введите своё имя для создания уникального эксперимента\n",
    "assert YOUR_NAME, \"alexnikzotov\"\n",
    "\n",
    "# название тестового эксперимента и запуска (run) внутри него\n",
    "EXPERIMENT_NAME = f\"test_connection_experiment_{YOUR_NAME}\"\n",
    "RUN_NAME = \"test_connection_run\"\n",
    "\n",
    "# тестовые данные\n",
    "METRIC_NAME = \"test_metric\"\n",
    "METRIC_VALUE = 0\n",
    "\n",
    "# устанавливаем host, который будет отслеживать наши эксперименты\n",
    "mlflow.set_tracking_uri(f\"http://{TRACKING_SERVER_HOST}:{TRACKING_SERVER_PORT}\")\n",
    "\n",
    "# создаём тестовый эксперимент и записываем в него тестовую информацию\n",
    "experiment_id = mlflow.create_experiment(EXPERIMENT_NAME)\n",
    "with mlflow.start_run(run_name=RUN_NAME, experiment_id=experiment_id) as run:\n",
    "    run_id = run.info.run_id\n",
    "    \n",
    "    mlflow.log_metric(METRIC_NAME, METRIC_VALUE) "
   ]
  },
  {
   "cell_type": "markdown",
   "id": "2dad1355",
   "metadata": {},
   "source": [
    "3.Для логирования используйте либо уже имеющуюся модель, полученную в первом спринте, либо обучите новую модель по своему усмотрению.\n"
   ]
  },
  {
   "cell_type": "code",
   "execution_count": null,
   "id": "5899c626",
   "metadata": {},
   "outputs": [],
   "source": [
    "# Базовый код ругается, что это пайплайн, и не даёт сохранить.\n",
    "# model = joblib.load('/home/mle-user/mle_projects/mle-mlflow/models/model.pkl')\n",
    "# experiment_id = '4'\n",
    "# with mlflow.start_run(run_name='log_model', experiment_id=experiment_id) as run:\n",
    "#     run_id = run.info.run_id\n",
    "  \n",
    "#     model_info = mlflow.catboost.log_model(cb_model=model, artifact_path=\"models\") "
   ]
  },
  {
   "cell_type": "markdown",
   "id": "6e93508d",
   "metadata": {},
   "source": [
    "Вероятно, ваша модель является объектом Pipeline из scikit-learn, и вы пытаетесь сохранить её с помощью функций, предназначенных для моделей CatBoost.\n",
    "Для того чтобы решить эту проблему, вам нужно использовать соответствующие методы для сохранения и загрузки модели в зависимости от её типа. Если ваша модель — это Pipeline, то для её сохранения можно использовать joblib или pickle, как вы уже делали для загрузки модели.\n",
    "Если вы хотите использовать MLflow для логирования модели, убедитесь, что используете правильный флавор (например, mlflow.sklearn для моделей scikit-learn).\n",
    "Вот пример, как можно логировать модель scikit-learn с помощью MLflow:"
   ]
  },
  {
   "cell_type": "code",
   "execution_count": null,
   "id": "77ec2170",
   "metadata": {},
   "outputs": [],
   "source": [
    "from mlflow.tracking import MlflowClient\n",
    "model = joblib.load('/home/mle-user/mle_projects/mle-mlflow/models/model.pkl')\n",
    "experiment_id = '4'\n",
    "\n",
    "with mlflow.start_run(run_name='log_model', experiment_id=experiment_id) as run:\n",
    "    run_id = run.info.run_id\n",
    "    \n",
    "    # Логируем модель\n",
    "    model_info = mlflow.sklearn.log_model(sk_model=model, artifact_path=\"models\")"
   ]
  },
  {
   "cell_type": "markdown",
   "id": "ac029a2f",
   "metadata": {},
   "source": [
    "4.Установите библиотеку scikit-learn в ваше окружение: pip install scikit-learn==1.3.1.\n",
    "\n"
   ]
  },
  {
   "cell_type": "markdown",
   "id": "0d0c8e5f",
   "metadata": {},
   "source": [
    "\n",
    "Также для успешного выполнения заданий подготовьте следующие пререквизиты:\n",
    "- Объект модели. Это та самая обученная модель, которую вы планируете логировать с помощью MLflow. Сохраните её в переменную model.\n",
    "- Предсказанные моделью значения. Полученные прогнозы модели, включая вероятности положительного исхода и бинарные значения, которые вы определили. - Сохраните эти значения в переменные: prediction — бинарные значения 0 или 1, proba — вероятности.\n",
    "- Истинные метки и данные для предсказания. Первое — это истинные значения целевой переменной для вашего тестового набора данных. Сохраните их в переменную y_test. Второе — датасет с признаками для модели, который уже сохранён в переменную X_test."
   ]
  },
  {
   "cell_type": "code",
   "execution_count": null,
   "id": "1343a485",
   "metadata": {},
   "outputs": [],
   "source": [
    "# Загрузим данные:\n",
    "# df = pd.read_csv('users_churn.csv') - проблема здесь - нужны сразу предлобработанные данные\n",
    "\n",
    "# Поделим данные:\n",
    "X = df.drop('Target',axis=1)\n",
    "y = df['Target']\n",
    "X_train, X_test, y_train, y_test = train_test_split(X, y, test_size=0.2, random_state=42)\n",
    "\n",
    "# Получение бинарных значений\n",
    "prediction = model.predict(X_test)\n",
    "\n",
    "# Получение вероятностей положительного исхода\n",
    "proba = model.predict_proba(X_test)"
   ]
  },
  {
   "cell_type": "code",
   "execution_count": null,
   "id": "f796be61",
   "metadata": {},
   "outputs": [],
   "source": []
  }
 ],
 "metadata": {
  "kernelspec": {
   "display_name": ".venv",
   "language": "python",
   "name": "python3"
  },
  "language_info": {
   "codemirror_mode": {
    "name": "ipython",
    "version": 3
   },
   "file_extension": ".py",
   "mimetype": "text/x-python",
   "name": "python",
   "nbconvert_exporter": "python",
   "pygments_lexer": "ipython3",
   "version": "3.10.12"
  }
 },
 "nbformat": 4,
 "nbformat_minor": 5
}
