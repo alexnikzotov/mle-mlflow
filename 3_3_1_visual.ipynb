{
 "cells": [
  {
   "cell_type": "markdown",
   "id": "ab059399",
   "metadata": {},
   "source": [
    "<h1><center>Проведение EDA. Практика</center></h1>\n",
    "\n",
    "Вернёмся к задаче оттока для компании «Космолайн», которую вы решали в предыдущих темах. После каждого пройденного урока вам нужно понемногу улучшать свой пайплайн и с точки зрения качества модели, и с точки зрения скорости работы в продакшене. \n",
    "\n",
    "Начнём с проведения разведочного анализа данных, или EDA.\n",
    "\n",
    "Для начала определите среду выполнения анализа и задайте глобальные переменные, которые понадобятся вам в ходе решения задач. Название эксперимента можете взять из предыдущих уроков. Переменная ASSETS_DIR хранит название директории, где, в свою очередь, хранятся артефакты, полученные в ходе первичного анализа данных. А ещё, проводя EDA, вы можете увеличить стандартное значение отображаемых колонок и строк, а также установить стили графиков — зачастую это полезно."
   ]
  },
  {
   "cell_type": "code",
   "execution_count": 1,
   "id": "1d6ff46f",
   "metadata": {},
   "outputs": [
    {
     "ename": "ModuleNotFoundError",
     "evalue": "No module named 'seaborn'",
     "output_type": "error",
     "traceback": [
      "\u001b[0;31m---------------------------------------------------------------------------\u001b[0m",
      "\u001b[0;31mModuleNotFoundError\u001b[0m                       Traceback (most recent call last)",
      "Cell \u001b[0;32mIn[1], line 6\u001b[0m\n\u001b[1;32m      4\u001b[0m \u001b[38;5;28;01mimport\u001b[39;00m\u001b[38;5;250m \u001b[39m\u001b[38;5;21;01mpandas\u001b[39;00m\u001b[38;5;250m \u001b[39m\u001b[38;5;28;01mas\u001b[39;00m\u001b[38;5;250m \u001b[39m\u001b[38;5;21;01mpd\u001b[39;00m\n\u001b[1;32m      5\u001b[0m \u001b[38;5;28;01mimport\u001b[39;00m\u001b[38;5;250m \u001b[39m\u001b[38;5;21;01mmatplotlib\u001b[39;00m\u001b[38;5;21;01m.\u001b[39;00m\u001b[38;5;21;01mpyplot\u001b[39;00m\u001b[38;5;250m \u001b[39m\u001b[38;5;28;01mas\u001b[39;00m\u001b[38;5;250m \u001b[39m\u001b[38;5;21;01mplt\u001b[39;00m\n\u001b[0;32m----> 6\u001b[0m \u001b[38;5;28;01mimport\u001b[39;00m\u001b[38;5;250m \u001b[39m\u001b[38;5;21;01mseaborn\u001b[39;00m\u001b[38;5;250m \u001b[39m\u001b[38;5;28;01mas\u001b[39;00m\u001b[38;5;250m \u001b[39m\u001b[38;5;21;01msns\u001b[39;00m\n\u001b[1;32m      7\u001b[0m \u001b[38;5;28;01mimport\u001b[39;00m\u001b[38;5;250m \u001b[39m\u001b[38;5;21;01mmlflow\u001b[39;00m\n\u001b[1;32m      9\u001b[0m TABLE_NAME \u001b[38;5;241m=\u001b[39m \u001b[38;5;124m\"\u001b[39m\u001b[38;5;124musers_churn\u001b[39m\u001b[38;5;124m\"\u001b[39m \u001b[38;5;66;03m# таблица с данными в postgres \u001b[39;00m\n",
      "\u001b[0;31mModuleNotFoundError\u001b[0m: No module named 'seaborn'"
     ]
    }
   ],
   "source": [
    "import os\n",
    "\n",
    "import psycopg\n",
    "import pandas as pd\n",
    "import matplotlib.pyplot as plt\n",
    "import seaborn as sns\n",
    "import mlflow\n",
    "\n",
    "TABLE_NAME = \"users_churn\" # таблица с данными в postgres \n",
    "\n",
    "TRACKING_SERVER_HOST = \"127.0.0.1\"\n",
    "TRACKING_SERVER_PORT = 5000\n",
    "\n",
    "EXPERIMENT_NAME = \"\" # напишите название вашего эксперимента\n",
    "RUN_NAME = \"eda\"\n",
    "\n",
    "ASSETS_DIR = \"assets\"\n",
    "\n",
    "os.mkdir(ASSETS_DIR) # или os.makedirs(ASSETS_DIR, exist_ok=True)\n",
    "\n",
    "pd.options.display.max_columns = 100\n",
    "pd.options.display.max_rows = 64\n",
    "\n",
    "sns.set_style(\"white\")\n",
    "sns.set_theme(style=\"whitegrid\") "
   ]
  },
  {
   "cell_type": "code",
   "execution_count": null,
   "id": "64e368b4",
   "metadata": {},
   "outputs": [],
   "source": []
  }
 ],
 "metadata": {
  "kernelspec": {
   "display_name": ".venv",
   "language": "python",
   "name": "python3"
  },
  "language_info": {
   "codemirror_mode": {
    "name": "ipython",
    "version": 3
   },
   "file_extension": ".py",
   "mimetype": "text/x-python",
   "name": "python",
   "nbconvert_exporter": "python",
   "pygments_lexer": "ipython3",
   "version": "3.10.12"
  }
 },
 "nbformat": 4,
 "nbformat_minor": 5
}
